{
  "nbformat": 4,
  "nbformat_minor": 0,
  "metadata": {
    "colab": {
      "name": "Fake_news_detection_LSTM.ipynb",
      "provenance": []
    },
    "kernelspec": {
      "name": "python3",
      "display_name": "Python 3"
    },
    "language_info": {
      "name": "python"
    },
    "accelerator": "GPU",
    "gpuClass": "standard"
  },
  "cells": [
    {
      "cell_type": "code",
      "execution_count": 1,
      "metadata": {
        "id": "_ACmGt7lkmnM"
      },
      "outputs": [],
      "source": [
        "import numpy as np\n",
        "import pandas as pd\n",
        "import matplotlib.pyplot as plt\n",
        "import seaborn as sns\n",
        "import nltk\n",
        "import re\n",
        "from wordcloud import WordCloud"
      ]
    },
    {
      "cell_type": "code",
      "source": [
        "from tensorflow.keras.preprocessing.text import Tokenizer\n",
        "from tensorflow.keras.preprocessing.sequence import pad_sequences\n",
        "from tensorflow.keras.models import Sequential\n",
        "from tensorflow.keras.layers import Dense, Embedding, LSTM, Conv1D,MaxPool1D\n",
        "from sklearn.model_selection import train_test_split\n",
        "from sklearn.metrics import classification_report, accuracy_score"
      ],
      "metadata": {
        "id": "BM64CwVel7MR"
      },
      "execution_count": 2,
      "outputs": []
    },
    {
      "cell_type": "code",
      "source": [
        "fake= pd.read_csv('https://raw.githubusercontent.com/laxmimerit/fake-real-news-dataset/main/data/Fake.csv')"
      ],
      "metadata": {
        "id": "GZJRCVlToSec"
      },
      "execution_count": 3,
      "outputs": []
    },
    {
      "cell_type": "code",
      "source": [
        "true =pd.read_csv('https://raw.githubusercontent.com/laxmimerit/fake-real-news-dataset/main/data/True.csv')\n"
      ],
      "metadata": {
        "id": "ijfEfmjdp7me"
      },
      "execution_count": 4,
      "outputs": []
    },
    {
      "cell_type": "code",
      "source": [
        "fake.head(1)"
      ],
      "metadata": {
        "colab": {
          "base_uri": "https://localhost:8080/",
          "height": 81
        },
        "id": "hdsiXvx3qC3T",
        "outputId": "4bf8f888-5145-4b1d-f8d5-6b4775753863"
      },
      "execution_count": 5,
      "outputs": [
        {
          "output_type": "execute_result",
          "data": {
            "text/plain": [
              "                                               title  \\\n",
              "0   Donald Trump Sends Out Embarrassing New Year’...   \n",
              "\n",
              "                                                text subject  \\\n",
              "0  Donald Trump just couldn t wish all Americans ...    News   \n",
              "\n",
              "                date  \n",
              "0  December 31, 2017  "
            ],
            "text/html": [
              "\n",
              "  <div id=\"df-26c3e860-0565-4a36-a50f-2357ceec957f\">\n",
              "    <div class=\"colab-df-container\">\n",
              "      <div>\n",
              "<style scoped>\n",
              "    .dataframe tbody tr th:only-of-type {\n",
              "        vertical-align: middle;\n",
              "    }\n",
              "\n",
              "    .dataframe tbody tr th {\n",
              "        vertical-align: top;\n",
              "    }\n",
              "\n",
              "    .dataframe thead th {\n",
              "        text-align: right;\n",
              "    }\n",
              "</style>\n",
              "<table border=\"1\" class=\"dataframe\">\n",
              "  <thead>\n",
              "    <tr style=\"text-align: right;\">\n",
              "      <th></th>\n",
              "      <th>title</th>\n",
              "      <th>text</th>\n",
              "      <th>subject</th>\n",
              "      <th>date</th>\n",
              "    </tr>\n",
              "  </thead>\n",
              "  <tbody>\n",
              "    <tr>\n",
              "      <th>0</th>\n",
              "      <td>Donald Trump Sends Out Embarrassing New Year’...</td>\n",
              "      <td>Donald Trump just couldn t wish all Americans ...</td>\n",
              "      <td>News</td>\n",
              "      <td>December 31, 2017</td>\n",
              "    </tr>\n",
              "  </tbody>\n",
              "</table>\n",
              "</div>\n",
              "      <button class=\"colab-df-convert\" onclick=\"convertToInteractive('df-26c3e860-0565-4a36-a50f-2357ceec957f')\"\n",
              "              title=\"Convert this dataframe to an interactive table.\"\n",
              "              style=\"display:none;\">\n",
              "        \n",
              "  <svg xmlns=\"http://www.w3.org/2000/svg\" height=\"24px\"viewBox=\"0 0 24 24\"\n",
              "       width=\"24px\">\n",
              "    <path d=\"M0 0h24v24H0V0z\" fill=\"none\"/>\n",
              "    <path d=\"M18.56 5.44l.94 2.06.94-2.06 2.06-.94-2.06-.94-.94-2.06-.94 2.06-2.06.94zm-11 1L8.5 8.5l.94-2.06 2.06-.94-2.06-.94L8.5 2.5l-.94 2.06-2.06.94zm10 10l.94 2.06.94-2.06 2.06-.94-2.06-.94-.94-2.06-.94 2.06-2.06.94z\"/><path d=\"M17.41 7.96l-1.37-1.37c-.4-.4-.92-.59-1.43-.59-.52 0-1.04.2-1.43.59L10.3 9.45l-7.72 7.72c-.78.78-.78 2.05 0 2.83L4 21.41c.39.39.9.59 1.41.59.51 0 1.02-.2 1.41-.59l7.78-7.78 2.81-2.81c.8-.78.8-2.07 0-2.86zM5.41 20L4 18.59l7.72-7.72 1.47 1.35L5.41 20z\"/>\n",
              "  </svg>\n",
              "      </button>\n",
              "      \n",
              "  <style>\n",
              "    .colab-df-container {\n",
              "      display:flex;\n",
              "      flex-wrap:wrap;\n",
              "      gap: 12px;\n",
              "    }\n",
              "\n",
              "    .colab-df-convert {\n",
              "      background-color: #E8F0FE;\n",
              "      border: none;\n",
              "      border-radius: 50%;\n",
              "      cursor: pointer;\n",
              "      display: none;\n",
              "      fill: #1967D2;\n",
              "      height: 32px;\n",
              "      padding: 0 0 0 0;\n",
              "      width: 32px;\n",
              "    }\n",
              "\n",
              "    .colab-df-convert:hover {\n",
              "      background-color: #E2EBFA;\n",
              "      box-shadow: 0px 1px 2px rgba(60, 64, 67, 0.3), 0px 1px 3px 1px rgba(60, 64, 67, 0.15);\n",
              "      fill: #174EA6;\n",
              "    }\n",
              "\n",
              "    [theme=dark] .colab-df-convert {\n",
              "      background-color: #3B4455;\n",
              "      fill: #D2E3FC;\n",
              "    }\n",
              "\n",
              "    [theme=dark] .colab-df-convert:hover {\n",
              "      background-color: #434B5C;\n",
              "      box-shadow: 0px 1px 3px 1px rgba(0, 0, 0, 0.15);\n",
              "      filter: drop-shadow(0px 1px 2px rgba(0, 0, 0, 0.3));\n",
              "      fill: #FFFFFF;\n",
              "    }\n",
              "  </style>\n",
              "\n",
              "      <script>\n",
              "        const buttonEl =\n",
              "          document.querySelector('#df-26c3e860-0565-4a36-a50f-2357ceec957f button.colab-df-convert');\n",
              "        buttonEl.style.display =\n",
              "          google.colab.kernel.accessAllowed ? 'block' : 'none';\n",
              "\n",
              "        async function convertToInteractive(key) {\n",
              "          const element = document.querySelector('#df-26c3e860-0565-4a36-a50f-2357ceec957f');\n",
              "          const dataTable =\n",
              "            await google.colab.kernel.invokeFunction('convertToInteractive',\n",
              "                                                     [key], {});\n",
              "          if (!dataTable) return;\n",
              "\n",
              "          const docLinkHtml = 'Like what you see? Visit the ' +\n",
              "            '<a target=\"_blank\" href=https://colab.research.google.com/notebooks/data_table.ipynb>data table notebook</a>'\n",
              "            + ' to learn more about interactive tables.';\n",
              "          element.innerHTML = '';\n",
              "          dataTable['output_type'] = 'display_data';\n",
              "          await google.colab.output.renderOutput(dataTable, element);\n",
              "          const docLink = document.createElement('div');\n",
              "          docLink.innerHTML = docLinkHtml;\n",
              "          element.appendChild(docLink);\n",
              "        }\n",
              "      </script>\n",
              "    </div>\n",
              "  </div>\n",
              "  "
            ]
          },
          "metadata": {},
          "execution_count": 5
        }
      ]
    },
    {
      "cell_type": "code",
      "source": [
        "fake.columns"
      ],
      "metadata": {
        "colab": {
          "base_uri": "https://localhost:8080/"
        },
        "id": "Sn5Q764-qXXj",
        "outputId": "b31b929c-7e68-48b6-cb76-4580629b21fb"
      },
      "execution_count": 6,
      "outputs": [
        {
          "output_type": "execute_result",
          "data": {
            "text/plain": [
              "Index(['title', 'text', 'subject', 'date'], dtype='object')"
            ]
          },
          "metadata": {},
          "execution_count": 6
        }
      ]
    },
    {
      "cell_type": "code",
      "source": [
        "fake['subject'].value_counts()"
      ],
      "metadata": {
        "colab": {
          "base_uri": "https://localhost:8080/"
        },
        "id": "JH25sAY8qaJh",
        "outputId": "932413b4-d8eb-4e02-8fa7-51bae8f40ed6"
      },
      "execution_count": 7,
      "outputs": [
        {
          "output_type": "execute_result",
          "data": {
            "text/plain": [
              "News               9050\n",
              "politics           6841\n",
              "left-news          4459\n",
              "Government News    1570\n",
              "US_News             783\n",
              "Middle-east         778\n",
              "Name: subject, dtype: int64"
            ]
          },
          "metadata": {},
          "execution_count": 7
        }
      ]
    },
    {
      "cell_type": "code",
      "source": [
        "sns.countplot('subject',data=fake) #easy way to visualize the content \"feature subject \" of the data fake\n"
      ],
      "metadata": {
        "colab": {
          "base_uri": "https://localhost:8080/",
          "height": 352
        },
        "id": "OTT4w_ytqlCQ",
        "outputId": "dbeb4b69-68b2-444b-be61-4fd90da926a6"
      },
      "execution_count": 8,
      "outputs": [
        {
          "output_type": "stream",
          "name": "stderr",
          "text": [
            "/usr/local/lib/python3.7/dist-packages/seaborn/_decorators.py:43: FutureWarning: Pass the following variable as a keyword arg: x. From version 0.12, the only valid positional argument will be `data`, and passing other arguments without an explicit keyword will result in an error or misinterpretation.\n",
            "  FutureWarning\n"
          ]
        },
        {
          "output_type": "execute_result",
          "data": {
            "text/plain": [
              "<matplotlib.axes._subplots.AxesSubplot at 0x7f577a886410>"
            ]
          },
          "metadata": {},
          "execution_count": 8
        },
        {
          "output_type": "display_data",
          "data": {
            "text/plain": [
              "<Figure size 432x288 with 1 Axes>"
            ],
            "image/png": "[encoded data removed]"
          },
          "metadata": {
            "needs_background": "light"
          }
        }
      ]
    },
    {
      "cell_type": "markdown",
      "source": [
        "#WordCloud"
      ],
      "metadata": {
        "id": "u5uq7gzIq-2B"
      }
    },
    {
      "cell_type": "code",
      "source": [
        "text=' '.join(fake['text'].tolist())"
      ],
      "metadata": {
        "id": "cSe30R1drBI0"
      },
      "execution_count": 9,
      "outputs": []
    },
    {
      "cell_type": "code",
      "source": [
        "wordcloud=WordCloud(width=1920, height=1000).generate(text)\n",
        "fig = plt.figure(figsize=(10,10))\n",
        "\n",
        "plt.imshow(wordcloud)\n",
        "plt.axis('off')\n",
        "plt.tight_layout(pad=0)\n",
        "plt.show()\n"
      ],
      "metadata": {
        "colab": {
          "base_uri": "https://localhost:8080/",
          "height": 406
        },
        "id": "bldQOSXCq2tO",
        "outputId": "734068cf-2900-47a1-b1bf-9918a130ded0"
      },
      "execution_count": 10,
      "outputs": [
        {
          "output_type": "display_data",
          "data": {
            "text/plain": [
              "<Figure size 720x720 with 1 Axes>"
            ],
            "image/png": "[encoded data removed]"
          },
          "metadata": {
            "needs_background": "light"
          }
        }
      ]
    },
    {
      "cell_type": "code",
      "source": [
        "text2 = ' '.join(true['text'].tolist())"
      ],
      "metadata": {
        "id": "l4XDy037ykEX"
      },
      "execution_count": 11,
      "outputs": []
    },
    {
      "cell_type": "code",
      "source": [
        "unkown_publishers = []\n",
        "for index, row in enumerate(true.text.values):\n",
        "  try:\n",
        "\n",
        "    record = row.split(' - ',maxsplit=1)\n",
        "    assert(len(record[0])<260)\n",
        "  except:\n",
        "    unkown_publishers.append(index)"
      ],
      "metadata": {
        "id": "AOc6BAs1zirC"
      },
      "execution_count": 12,
      "outputs": []
    },
    {
      "cell_type": "code",
      "source": [
        "len(unkown_publishers)"
      ],
      "metadata": {
        "colab": {
          "base_uri": "https://localhost:8080/"
        },
        "id": "srCEU4My2i8n",
        "outputId": "68f754e3-780e-4776-9642-a0bee10a05e3"
      },
      "execution_count": 13,
      "outputs": [
        {
          "output_type": "execute_result",
          "data": {
            "text/plain": [
              "31"
            ]
          },
          "metadata": {},
          "execution_count": 13
        }
      ]
    },
    {
      "cell_type": "code",
      "source": [
        "true.iloc[unkown_publishers].text"
      ],
      "metadata": {
        "colab": {
          "base_uri": "https://localhost:8080/"
        },
        "id": "nBNcugKB2tiW",
        "outputId": "b902aad8-efad-4d0d-de07-bc016254dd7b"
      },
      "execution_count": 14,
      "outputs": [
        {
          "output_type": "execute_result",
          "data": {
            "text/plain": [
              "2922     The following statements were posted to the ve...\n",
              "3488     The White House on Wednesday disclosed a group...\n",
              "3782     The following statements were posted to the ve...\n",
              "4358     Neil Gorsuch, President Donald Trump’s appoint...\n",
              "4465     WASHINGTON The clock began running out this we...\n",
              "5290     The following statements were posted to the ve...\n",
              "5379     The following statements were posted to the ve...\n",
              "5412     The following statements were posted to the ve...\n",
              "5504     The following statements were posted to the ve...\n",
              "5538     The following statements were posted to the ve...\n",
              "5588     The following statements were posted to the ve...\n",
              "5593     The following statements were posted to the ve...\n",
              "5784     Federal appeals court judge Neil Gorsuch, the ...\n",
              "6660     Republican members of Congress are complaining...\n",
              "6823     Over the course of the U.S. presidential campa...\n",
              "7922     After going through a week reminiscent of Napo...\n",
              "8194     The following timeline charts the origin and s...\n",
              "8195     Global health officials are racing to better u...\n",
              "8247     U.S. President Barack Obama visited a street m...\n",
              "8465     ALGONAC, MICH.—Parker Fox drifted out of the D...\n",
              "8481     Global health officials are racing to better u...\n",
              "8482     The following timeline charts the origin and s...\n",
              "8505     Global health officials are racing to better u...\n",
              "8506     The following timeline charts the origin and s...\n",
              "8771     In a speech weighted with America’s complicate...\n",
              "9008     The following timeline charts the origin and s...\n",
              "9009     Global health officials are racing to better u...\n",
              "9307     It’s the near future, and North Korea’s regime...\n",
              "9618     GOP leaders have unleashed a stunning level of...\n",
              "9737     Caitlyn Jenner posted a video on Wednesday (Ap...\n",
              "10479    The Democratic and Republican nominees for the...\n",
              "Name: text, dtype: object"
            ]
          },
          "metadata": {},
          "execution_count": 14
        }
      ]
    },
    {
      "cell_type": "code",
      "source": [
        "true=true.drop(8970, axis=0)"
      ],
      "metadata": {
        "id": "Gdisy9bECTAw"
      },
      "execution_count": 15,
      "outputs": []
    },
    {
      "cell_type": "code",
      "source": [
        "publisher=[]\n",
        "tmp_text =[]\n",
        "for index, row in enumerate(true.text.values):\n",
        "  if index in unkown_publishers:\n",
        "    tmp_text.append(row)\n",
        "    publisher.append('Unknown')\n",
        "  else:\n",
        "    record = row.split('-',maxsplit=1)\n",
        "    publisher.append(record[0].strip())\n",
        "    tmp_text.append(record[1].strip())"
      ],
      "metadata": {
        "id": "WObvdpZC3hgn"
      },
      "execution_count": 16,
      "outputs": []
    },
    {
      "cell_type": "code",
      "source": [
        "true['publisher']=publisher\n",
        "true['text']=tmp_text"
      ],
      "metadata": {
        "id": "kHu19SsVEUKA"
      },
      "execution_count": 17,
      "outputs": []
    },
    {
      "cell_type": "code",
      "source": [
        "true.head(2)"
      ],
      "metadata": {
        "colab": {
          "base_uri": "https://localhost:8080/",
          "height": 156
        },
        "id": "lsZuVo6fEnIk",
        "outputId": "14e9cb59-05ca-4632-c8a7-a2c6db4752a6"
      },
      "execution_count": 18,
      "outputs": [
        {
          "output_type": "execute_result",
          "data": {
            "text/plain": [
              "                                               title  \\\n",
              "0  As U.S. budget fight looms, Republicans flip t...   \n",
              "1  U.S. military to accept transgender recruits o...   \n",
              "\n",
              "                                                text       subject  \\\n",
              "0  The head of a conservative Republican faction ...  politicsNews   \n",
              "1  Transgender people will be allowed for the fir...  politicsNews   \n",
              "\n",
              "                 date             publisher  \n",
              "0  December 31, 2017   WASHINGTON (Reuters)  \n",
              "1  December 29, 2017   WASHINGTON (Reuters)  "
            ],
            "text/html": [
              "\n",
              "  <div id=\"df-e28cde7f-6133-4ca0-b75d-7d1cc7f3226f\">\n",
              "    <div class=\"colab-df-container\">\n",
              "      <div>\n",
              "<style scoped>\n",
              "    .dataframe tbody tr th:only-of-type {\n",
              "        vertical-align: middle;\n",
              "    }\n",
              "\n",
              "    .dataframe tbody tr th {\n",
              "        vertical-align: top;\n",
              "    }\n",
              "\n",
              "    .dataframe thead th {\n",
              "        text-align: right;\n",
              "    }\n",
              "</style>\n",
              "<table border=\"1\" class=\"dataframe\">\n",
              "  <thead>\n",
              "    <tr style=\"text-align: right;\">\n",
              "      <th></th>\n",
              "      <th>title</th>\n",
              "      <th>text</th>\n",
              "      <th>subject</th>\n",
              "      <th>date</th>\n",
              "      <th>publisher</th>\n",
              "    </tr>\n",
              "  </thead>\n",
              "  <tbody>\n",
              "    <tr>\n",
              "      <th>0</th>\n",
              "      <td>As U.S. budget fight looms, Republicans flip t...</td>\n",
              "      <td>The head of a conservative Republican faction ...</td>\n",
              "      <td>politicsNews</td>\n",
              "      <td>December 31, 2017</td>\n",
              "      <td>WASHINGTON (Reuters)</td>\n",
              "    </tr>\n",
              "    <tr>\n",
              "      <th>1</th>\n",
              "      <td>U.S. military to accept transgender recruits o...</td>\n",
              "      <td>Transgender people will be allowed for the fir...</td>\n",
              "      <td>politicsNews</td>\n",
              "      <td>December 29, 2017</td>\n",
              "      <td>WASHINGTON (Reuters)</td>\n",
              "    </tr>\n",
              "  </tbody>\n",
              "</table>\n",
              "</div>\n",
              "      <button class=\"colab-df-convert\" onclick=\"convertToInteractive('df-e28cde7f-6133-4ca0-b75d-7d1cc7f3226f')\"\n",
              "              title=\"Convert this dataframe to an interactive table.\"\n",
              "              style=\"display:none;\">\n",
              "        \n",
              "  <svg xmlns=\"http://www.w3.org/2000/svg\" height=\"24px\"viewBox=\"0 0 24 24\"\n",
              "       width=\"24px\">\n",
              "    <path d=\"M0 0h24v24H0V0z\" fill=\"none\"/>\n",
              "    <path d=\"M18.56 5.44l.94 2.06.94-2.06 2.06-.94-2.06-.94-.94-2.06-.94 2.06-2.06.94zm-11 1L8.5 8.5l.94-2.06 2.06-.94-2.06-.94L8.5 2.5l-.94 2.06-2.06.94zm10 10l.94 2.06.94-2.06 2.06-.94-2.06-.94-.94-2.06-.94 2.06-2.06.94z\"/><path d=\"M17.41 7.96l-1.37-1.37c-.4-.4-.92-.59-1.43-.59-.52 0-1.04.2-1.43.59L10.3 9.45l-7.72 7.72c-.78.78-.78 2.05 0 2.83L4 21.41c.39.39.9.59 1.41.59.51 0 1.02-.2 1.41-.59l7.78-7.78 2.81-2.81c.8-.78.8-2.07 0-2.86zM5.41 20L4 18.59l7.72-7.72 1.47 1.35L5.41 20z\"/>\n",
              "  </svg>\n",
              "      </button>\n",
              "      \n",
              "  <style>\n",
              "    .colab-df-container {\n",
              "      display:flex;\n",
              "      flex-wrap:wrap;\n",
              "      gap: 12px;\n",
              "    }\n",
              "\n",
              "    .colab-df-convert {\n",
              "      background-color: #E8F0FE;\n",
              "      border: none;\n",
              "      border-radius: 50%;\n",
              "      cursor: pointer;\n",
              "      display: none;\n",
              "      fill: #1967D2;\n",
              "      height: 32px;\n",
              "      padding: 0 0 0 0;\n",
              "      width: 32px;\n",
              "    }\n",
              "\n",
              "    .colab-df-convert:hover {\n",
              "      background-color: #E2EBFA;\n",
              "      box-shadow: 0px 1px 2px rgba(60, 64, 67, 0.3), 0px 1px 3px 1px rgba(60, 64, 67, 0.15);\n",
              "      fill: #174EA6;\n",
              "    }\n",
              "\n",
              "    [theme=dark] .colab-df-convert {\n",
              "      background-color: #3B4455;\n",
              "      fill: #D2E3FC;\n",
              "    }\n",
              "\n",
              "    [theme=dark] .colab-df-convert:hover {\n",
              "      background-color: #434B5C;\n",
              "      box-shadow: 0px 1px 3px 1px rgba(0, 0, 0, 0.15);\n",
              "      filter: drop-shadow(0px 1px 2px rgba(0, 0, 0, 0.3));\n",
              "      fill: #FFFFFF;\n",
              "    }\n",
              "  </style>\n",
              "\n",
              "      <script>\n",
              "        const buttonEl =\n",
              "          document.querySelector('#df-e28cde7f-6133-4ca0-b75d-7d1cc7f3226f button.colab-df-convert');\n",
              "        buttonEl.style.display =\n",
              "          google.colab.kernel.accessAllowed ? 'block' : 'none';\n",
              "\n",
              "        async function convertToInteractive(key) {\n",
              "          const element = document.querySelector('#df-e28cde7f-6133-4ca0-b75d-7d1cc7f3226f');\n",
              "          const dataTable =\n",
              "            await google.colab.kernel.invokeFunction('convertToInteractive',\n",
              "                                                     [key], {});\n",
              "          if (!dataTable) return;\n",
              "\n",
              "          const docLinkHtml = 'Like what you see? Visit the ' +\n",
              "            '<a target=\"_blank\" href=https://colab.research.google.com/notebooks/data_table.ipynb>data table notebook</a>'\n",
              "            + ' to learn more about interactive tables.';\n",
              "          element.innerHTML = '';\n",
              "          dataTable['output_type'] = 'display_data';\n",
              "          await google.colab.output.renderOutput(dataTable, element);\n",
              "          const docLink = document.createElement('div');\n",
              "          docLink.innerHTML = docLinkHtml;\n",
              "          element.appendChild(docLink);\n",
              "        }\n",
              "      </script>\n",
              "    </div>\n",
              "  </div>\n",
              "  "
            ]
          },
          "metadata": {},
          "execution_count": 18
        }
      ]
    },
    {
      "cell_type": "code",
      "source": [
        "empty_fake=[index for index,text in enumerate(fake.text.tolist()) if str(text).strip()==\"\"]"
      ],
      "metadata": {
        "id": "Wr_cokq_EqEK"
      },
      "execution_count": 19,
      "outputs": []
    },
    {
      "cell_type": "code",
      "source": [
        "fake.iloc[empty_fake]"
      ],
      "metadata": {
        "colab": {
          "base_uri": "https://localhost:8080/",
          "height": 424
        },
        "id": "AjsI6yIVFGiD",
        "outputId": "ba738cd7-80ab-4a72-fa54-9af81affae5f"
      },
      "execution_count": 20,
      "outputs": [
        {
          "output_type": "execute_result",
          "data": {
            "text/plain": [
              "                                                   title text    subject  \\\n",
              "10923  TAKE OUR POLL: Who Do You Think President Trum...        politics   \n",
              "11041  Joe Scarborough BERATES Mika Brzezinski Over “...        politics   \n",
              "11190  WATCH TUCKER CARLSON Scorch Sanctuary City May...        politics   \n",
              "11225  MAYOR OF SANCTUARY CITY: Trump Trying To Make ...        politics   \n",
              "11236  SHOCKER: Public School Turns Computer Lab Into...        politics   \n",
              "...                                                  ...  ...        ...   \n",
              "21816  BALTIMORE BURNS: MARYLAND GOVERNOR BRINGS IN N...       left-news   \n",
              "21826  FULL VIDEO: THE BLOCKBUSTER INVESTIGATION INTO...       left-news   \n",
              "21827  (VIDEO) HILLARY CLINTON: RELIGIOUS BELIEFS MUS...       left-news   \n",
              "21857  (VIDEO)ICE PROTECTING OBAMA: WON’T RELEASE NAM...       left-news   \n",
              "21873  (VIDEO) HYSTERICAL SNL TAKE ON HILLARY’S ANNOU...       left-news   \n",
              "\n",
              "               date  \n",
              "10923  May 10, 2017  \n",
              "11041  Apr 26, 2017  \n",
              "11190   Apr 6, 2017  \n",
              "11225   Apr 2, 2017  \n",
              "11236   Apr 1, 2017  \n",
              "...             ...  \n",
              "21816  Apr 27, 2015  \n",
              "21826  Apr 25, 2015  \n",
              "21827  Apr 25, 2015  \n",
              "21857  Apr 14, 2015  \n",
              "21873  Apr 12, 2015  \n",
              "\n",
              "[630 rows x 4 columns]"
            ],
            "text/html": [
              "\n",
              "  <div id=\"df-855662f4-9cb4-48df-8dc0-647fae4e2f77\">\n",
              "    <div class=\"colab-df-container\">\n",
              "      <div>\n",
              "<style scoped>\n",
              "    .dataframe tbody tr th:only-of-type {\n",
              "        vertical-align: middle;\n",
              "    }\n",
              "\n",
              "    .dataframe tbody tr th {\n",
              "        vertical-align: top;\n",
              "    }\n",
              "\n",
              "    .dataframe thead th {\n",
              "        text-align: right;\n",
              "    }\n",
              "</style>\n",
              "<table border=\"1\" class=\"dataframe\">\n",
              "  <thead>\n",
              "    <tr style=\"text-align: right;\">\n",
              "      <th></th>\n",
              "      <th>title</th>\n",
              "      <th>text</th>\n",
              "      <th>subject</th>\n",
              "      <th>date</th>\n",
              "    </tr>\n",
              "  </thead>\n",
              "  <tbody>\n",
              "    <tr>\n",
              "      <th>10923</th>\n",
              "      <td>TAKE OUR POLL: Who Do You Think President Trum...</td>\n",
              "      <td></td>\n",
              "      <td>politics</td>\n",
              "      <td>May 10, 2017</td>\n",
              "    </tr>\n",
              "    <tr>\n",
              "      <th>11041</th>\n",
              "      <td>Joe Scarborough BERATES Mika Brzezinski Over “...</td>\n",
              "      <td></td>\n",
              "      <td>politics</td>\n",
              "      <td>Apr 26, 2017</td>\n",
              "    </tr>\n",
              "    <tr>\n",
              "      <th>11190</th>\n",
              "      <td>WATCH TUCKER CARLSON Scorch Sanctuary City May...</td>\n",
              "      <td></td>\n",
              "      <td>politics</td>\n",
              "      <td>Apr 6, 2017</td>\n",
              "    </tr>\n",
              "    <tr>\n",
              "      <th>11225</th>\n",
              "      <td>MAYOR OF SANCTUARY CITY: Trump Trying To Make ...</td>\n",
              "      <td></td>\n",
              "      <td>politics</td>\n",
              "      <td>Apr 2, 2017</td>\n",
              "    </tr>\n",
              "    <tr>\n",
              "      <th>11236</th>\n",
              "      <td>SHOCKER: Public School Turns Computer Lab Into...</td>\n",
              "      <td></td>\n",
              "      <td>politics</td>\n",
              "      <td>Apr 1, 2017</td>\n",
              "    </tr>\n",
              "    <tr>\n",
              "      <th>...</th>\n",
              "      <td>...</td>\n",
              "      <td>...</td>\n",
              "      <td>...</td>\n",
              "      <td>...</td>\n",
              "    </tr>\n",
              "    <tr>\n",
              "      <th>21816</th>\n",
              "      <td>BALTIMORE BURNS: MARYLAND GOVERNOR BRINGS IN N...</td>\n",
              "      <td></td>\n",
              "      <td>left-news</td>\n",
              "      <td>Apr 27, 2015</td>\n",
              "    </tr>\n",
              "    <tr>\n",
              "      <th>21826</th>\n",
              "      <td>FULL VIDEO: THE BLOCKBUSTER INVESTIGATION INTO...</td>\n",
              "      <td></td>\n",
              "      <td>left-news</td>\n",
              "      <td>Apr 25, 2015</td>\n",
              "    </tr>\n",
              "    <tr>\n",
              "      <th>21827</th>\n",
              "      <td>(VIDEO) HILLARY CLINTON: RELIGIOUS BELIEFS MUS...</td>\n",
              "      <td></td>\n",
              "      <td>left-news</td>\n",
              "      <td>Apr 25, 2015</td>\n",
              "    </tr>\n",
              "    <tr>\n",
              "      <th>21857</th>\n",
              "      <td>(VIDEO)ICE PROTECTING OBAMA: WON’T RELEASE NAM...</td>\n",
              "      <td></td>\n",
              "      <td>left-news</td>\n",
              "      <td>Apr 14, 2015</td>\n",
              "    </tr>\n",
              "    <tr>\n",
              "      <th>21873</th>\n",
              "      <td>(VIDEO) HYSTERICAL SNL TAKE ON HILLARY’S ANNOU...</td>\n",
              "      <td></td>\n",
              "      <td>left-news</td>\n",
              "      <td>Apr 12, 2015</td>\n",
              "    </tr>\n",
              "  </tbody>\n",
              "</table>\n",
              "<p>630 rows × 4 columns</p>\n",
              "</div>\n",
              "      <button class=\"colab-df-convert\" onclick=\"convertToInteractive('df-855662f4-9cb4-48df-8dc0-647fae4e2f77')\"\n",
              "              title=\"Convert this dataframe to an interactive table.\"\n",
              "              style=\"display:none;\">\n",
              "        \n",
              "  <svg xmlns=\"http://www.w3.org/2000/svg\" height=\"24px\"viewBox=\"0 0 24 24\"\n",
              "       width=\"24px\">\n",
              "    <path d=\"M0 0h24v24H0V0z\" fill=\"none\"/>\n",
              "    <path d=\"M18.56 5.44l.94 2.06.94-2.06 2.06-.94-2.06-.94-.94-2.06-.94 2.06-2.06.94zm-11 1L8.5 8.5l.94-2.06 2.06-.94-2.06-.94L8.5 2.5l-.94 2.06-2.06.94zm10 10l.94 2.06.94-2.06 2.06-.94-2.06-.94-.94-2.06-.94 2.06-2.06.94z\"/><path d=\"M17.41 7.96l-1.37-1.37c-.4-.4-.92-.59-1.43-.59-.52 0-1.04.2-1.43.59L10.3 9.45l-7.72 7.72c-.78.78-.78 2.05 0 2.83L4 21.41c.39.39.9.59 1.41.59.51 0 1.02-.2 1.41-.59l7.78-7.78 2.81-2.81c.8-.78.8-2.07 0-2.86zM5.41 20L4 18.59l7.72-7.72 1.47 1.35L5.41 20z\"/>\n",
              "  </svg>\n",
              "      </button>\n",
              "      \n",
              "  <style>\n",
              "    .colab-df-container {\n",
              "      display:flex;\n",
              "      flex-wrap:wrap;\n",
              "      gap: 12px;\n",
              "    }\n",
              "\n",
              "    .colab-df-convert {\n",
              "      background-color: #E8F0FE;\n",
              "      border: none;\n",
              "      border-radius: 50%;\n",
              "      cursor: pointer;\n",
              "      display: none;\n",
              "      fill: #1967D2;\n",
              "      height: 32px;\n",
              "      padding: 0 0 0 0;\n",
              "      width: 32px;\n",
              "    }\n",
              "\n",
              "    .colab-df-convert:hover {\n",
              "      background-color: #E2EBFA;\n",
              "      box-shadow: 0px 1px 2px rgba(60, 64, 67, 0.3), 0px 1px 3px 1px rgba(60, 64, 67, 0.15);\n",
              "      fill: #174EA6;\n",
              "    }\n",
              "\n",
              "    [theme=dark] .colab-df-convert {\n",
              "      background-color: #3B4455;\n",
              "      fill: #D2E3FC;\n",
              "    }\n",
              "\n",
              "    [theme=dark] .colab-df-convert:hover {\n",
              "      background-color: #434B5C;\n",
              "      box-shadow: 0px 1px 3px 1px rgba(0, 0, 0, 0.15);\n",
              "      filter: drop-shadow(0px 1px 2px rgba(0, 0, 0, 0.3));\n",
              "      fill: #FFFFFF;\n",
              "    }\n",
              "  </style>\n",
              "\n",
              "      <script>\n",
              "        const buttonEl =\n",
              "          document.querySelector('#df-855662f4-9cb4-48df-8dc0-647fae4e2f77 button.colab-df-convert');\n",
              "        buttonEl.style.display =\n",
              "          google.colab.kernel.accessAllowed ? 'block' : 'none';\n",
              "\n",
              "        async function convertToInteractive(key) {\n",
              "          const element = document.querySelector('#df-855662f4-9cb4-48df-8dc0-647fae4e2f77');\n",
              "          const dataTable =\n",
              "            await google.colab.kernel.invokeFunction('convertToInteractive',\n",
              "                                                     [key], {});\n",
              "          if (!dataTable) return;\n",
              "\n",
              "          const docLinkHtml = 'Like what you see? Visit the ' +\n",
              "            '<a target=\"_blank\" href=https://colab.research.google.com/notebooks/data_table.ipynb>data table notebook</a>'\n",
              "            + ' to learn more about interactive tables.';\n",
              "          element.innerHTML = '';\n",
              "          dataTable['output_type'] = 'display_data';\n",
              "          await google.colab.output.renderOutput(dataTable, element);\n",
              "          const docLink = document.createElement('div');\n",
              "          docLink.innerHTML = docLinkHtml;\n",
              "          element.appendChild(docLink);\n",
              "        }\n",
              "      </script>\n",
              "    </div>\n",
              "  </div>\n",
              "  "
            ]
          },
          "metadata": {},
          "execution_count": 20
        }
      ]
    },
    {
      "cell_type": "code",
      "source": [
        "true['text']=true['title']+\" \"+true['text']"
      ],
      "metadata": {
        "id": "_qcnHK6UFTlQ"
      },
      "execution_count": 21,
      "outputs": []
    },
    {
      "cell_type": "code",
      "source": [
        "fake['text']=fake['title']+\" \"+fake['text']"
      ],
      "metadata": {
        "id": "JL1L-ZFCFeNR"
      },
      "execution_count": 22,
      "outputs": []
    },
    {
      "cell_type": "code",
      "source": [
        "true['text']=true['text'].apply(lambda x:str(x).lower())"
      ],
      "metadata": {
        "id": "OC-93Wt_FlBe"
      },
      "execution_count": 23,
      "outputs": []
    },
    {
      "cell_type": "code",
      "source": [
        "fake['text']=fake['text'].apply(lambda x:str(x).lower())"
      ],
      "metadata": {
        "id": "CswQ8iEuGAKq"
      },
      "execution_count": 24,
      "outputs": []
    },
    {
      "cell_type": "markdown",
      "source": [
        "#Preprocessing Text"
      ],
      "metadata": {
        "id": "4-cl4HGNGNxO"
      }
    },
    {
      "cell_type": "code",
      "source": [
        "true['class'] =1 #true\n",
        "fake['class']=0 #fake"
      ],
      "metadata": {
        "id": "TOrXA5KEGiV5"
      },
      "execution_count": 74,
      "outputs": []
    },
    {
      "cell_type": "code",
      "source": [
        "true = true[['text', 'class']]\n",
        "fake= fake[['text','class']]"
      ],
      "metadata": {
        "id": "TOPu1L70G4n9"
      },
      "execution_count": 26,
      "outputs": []
    },
    {
      "cell_type": "code",
      "source": [
        "data = true.append(fake, ignore_index=True)"
      ],
      "metadata": {
        "id": "MIWQrGXzHNYm"
      },
      "execution_count": 27,
      "outputs": []
    },
    {
      "cell_type": "code",
      "source": [
        "data.sample(5)"
      ],
      "metadata": {
        "colab": {
          "base_uri": "https://localhost:8080/",
          "height": 206
        },
        "id": "GRpAFhigHa_B",
        "outputId": "9d2b9765-19f0-45ba-8235-ee24d1433993"
      },
      "execution_count": 28,
      "outputs": [
        {
          "output_type": "execute_result",
          "data": {
            "text/plain": [
              "                                                    text  class\n",
              "17763  chemical weapons watchdog to get new leader as...      1\n",
              "12247  trump speaks by phone to russia's putin: white...      1\n",
              "22496   disgusting trump super-pac uses obama’s voice...      0\n",
              "9489   u.s. extends overtime pay to 4.2 million salar...      1\n",
              "40101  fbi director confirms hillary’s worst nightmar...      0"
            ],
            "text/html": [
              "\n",
              "  <div id=\"df-2f8e252a-e734-4201-8c97-c1e32604c7a8\">\n",
              "    <div class=\"colab-df-container\">\n",
              "      <div>\n",
              "<style scoped>\n",
              "    .dataframe tbody tr th:only-of-type {\n",
              "        vertical-align: middle;\n",
              "    }\n",
              "\n",
              "    .dataframe tbody tr th {\n",
              "        vertical-align: top;\n",
              "    }\n",
              "\n",
              "    .dataframe thead th {\n",
              "        text-align: right;\n",
              "    }\n",
              "</style>\n",
              "<table border=\"1\" class=\"dataframe\">\n",
              "  <thead>\n",
              "    <tr style=\"text-align: right;\">\n",
              "      <th></th>\n",
              "      <th>text</th>\n",
              "      <th>class</th>\n",
              "    </tr>\n",
              "  </thead>\n",
              "  <tbody>\n",
              "    <tr>\n",
              "      <th>17763</th>\n",
              "      <td>chemical weapons watchdog to get new leader as...</td>\n",
              "      <td>1</td>\n",
              "    </tr>\n",
              "    <tr>\n",
              "      <th>12247</th>\n",
              "      <td>trump speaks by phone to russia's putin: white...</td>\n",
              "      <td>1</td>\n",
              "    </tr>\n",
              "    <tr>\n",
              "      <th>22496</th>\n",
              "      <td>disgusting trump super-pac uses obama’s voice...</td>\n",
              "      <td>0</td>\n",
              "    </tr>\n",
              "    <tr>\n",
              "      <th>9489</th>\n",
              "      <td>u.s. extends overtime pay to 4.2 million salar...</td>\n",
              "      <td>1</td>\n",
              "    </tr>\n",
              "    <tr>\n",
              "      <th>40101</th>\n",
              "      <td>fbi director confirms hillary’s worst nightmar...</td>\n",
              "      <td>0</td>\n",
              "    </tr>\n",
              "  </tbody>\n",
              "</table>\n",
              "</div>\n",
              "      <button class=\"colab-df-convert\" onclick=\"convertToInteractive('df-2f8e252a-e734-4201-8c97-c1e32604c7a8')\"\n",
              "              title=\"Convert this dataframe to an interactive table.\"\n",
              "              style=\"display:none;\">\n",
              "        \n",
              "  <svg xmlns=\"http://www.w3.org/2000/svg\" height=\"24px\"viewBox=\"0 0 24 24\"\n",
              "       width=\"24px\">\n",
              "    <path d=\"M0 0h24v24H0V0z\" fill=\"none\"/>\n",
              "    <path d=\"M18.56 5.44l.94 2.06.94-2.06 2.06-.94-2.06-.94-.94-2.06-.94 2.06-2.06.94zm-11 1L8.5 8.5l.94-2.06 2.06-.94-2.06-.94L8.5 2.5l-.94 2.06-2.06.94zm10 10l.94 2.06.94-2.06 2.06-.94-2.06-.94-.94-2.06-.94 2.06-2.06.94z\"/><path d=\"M17.41 7.96l-1.37-1.37c-.4-.4-.92-.59-1.43-.59-.52 0-1.04.2-1.43.59L10.3 9.45l-7.72 7.72c-.78.78-.78 2.05 0 2.83L4 21.41c.39.39.9.59 1.41.59.51 0 1.02-.2 1.41-.59l7.78-7.78 2.81-2.81c.8-.78.8-2.07 0-2.86zM5.41 20L4 18.59l7.72-7.72 1.47 1.35L5.41 20z\"/>\n",
              "  </svg>\n",
              "      </button>\n",
              "      \n",
              "  <style>\n",
              "    .colab-df-container {\n",
              "      display:flex;\n",
              "      flex-wrap:wrap;\n",
              "      gap: 12px;\n",
              "    }\n",
              "\n",
              "    .colab-df-convert {\n",
              "      background-color: #E8F0FE;\n",
              "      border: none;\n",
              "      border-radius: 50%;\n",
              "      cursor: pointer;\n",
              "      display: none;\n",
              "      fill: #1967D2;\n",
              "      height: 32px;\n",
              "      padding: 0 0 0 0;\n",
              "      width: 32px;\n",
              "    }\n",
              "\n",
              "    .colab-df-convert:hover {\n",
              "      background-color: #E2EBFA;\n",
              "      box-shadow: 0px 1px 2px rgba(60, 64, 67, 0.3), 0px 1px 3px 1px rgba(60, 64, 67, 0.15);\n",
              "      fill: #174EA6;\n",
              "    }\n",
              "\n",
              "    [theme=dark] .colab-df-convert {\n",
              "      background-color: #3B4455;\n",
              "      fill: #D2E3FC;\n",
              "    }\n",
              "\n",
              "    [theme=dark] .colab-df-convert:hover {\n",
              "      background-color: #434B5C;\n",
              "      box-shadow: 0px 1px 3px 1px rgba(0, 0, 0, 0.15);\n",
              "      filter: drop-shadow(0px 1px 2px rgba(0, 0, 0, 0.3));\n",
              "      fill: #FFFFFF;\n",
              "    }\n",
              "  </style>\n",
              "\n",
              "      <script>\n",
              "        const buttonEl =\n",
              "          document.querySelector('#df-2f8e252a-e734-4201-8c97-c1e32604c7a8 button.colab-df-convert');\n",
              "        buttonEl.style.display =\n",
              "          google.colab.kernel.accessAllowed ? 'block' : 'none';\n",
              "\n",
              "        async function convertToInteractive(key) {\n",
              "          const element = document.querySelector('#df-2f8e252a-e734-4201-8c97-c1e32604c7a8');\n",
              "          const dataTable =\n",
              "            await google.colab.kernel.invokeFunction('convertToInteractive',\n",
              "                                                     [key], {});\n",
              "          if (!dataTable) return;\n",
              "\n",
              "          const docLinkHtml = 'Like what you see? Visit the ' +\n",
              "            '<a target=\"_blank\" href=https://colab.research.google.com/notebooks/data_table.ipynb>data table notebook</a>'\n",
              "            + ' to learn more about interactive tables.';\n",
              "          element.innerHTML = '';\n",
              "          dataTable['output_type'] = 'display_data';\n",
              "          await google.colab.output.renderOutput(dataTable, element);\n",
              "          const docLink = document.createElement('div');\n",
              "          docLink.innerHTML = docLinkHtml;\n",
              "          element.appendChild(docLink);\n",
              "        }\n",
              "      </script>\n",
              "    </div>\n",
              "  </div>\n",
              "  "
            ]
          },
          "metadata": {},
          "execution_count": 28
        }
      ]
    },
    {
      "cell_type": "code",
      "source": [
        "!pip install spacy==2.2.3\n",
        "!python -m spacy download en_core_web_sm\n",
        "!pip install beautifulsoup4==4.9.1\n",
        "!pip install textblob==0.15.3"
      ],
      "metadata": {
        "colab": {
          "base_uri": "https://localhost:8080/"
        },
        "id": "bywCiQsCHraP",
        "outputId": "da3701a5-4860-48cb-b0b2-e9665c37fc09"
      },
      "execution_count": 29,
      "outputs": [
        {
          "output_type": "stream",
          "name": "stdout",
          "text": [
            "Looking in indexes: https://pypi.org/simple, https://us-python.pkg.dev/colab-wheels/public/simple/\n",
            "Collecting spacy==2.2.3\n",
            "  Downloading spacy-2.2.3-cp37-cp37m-manylinux1_x86_64.whl (10.4 MB)\n",
            "\u001b[K     |████████████████████████████████| 10.4 MB 5.4 MB/s \n",
            "\u001b[?25hRequirement already satisfied: preshed<3.1.0,>=3.0.2 in /usr/local/lib/python3.7/dist-packages (from spacy==2.2.3) (3.0.6)\n",
            "Requirement already satisfied: cymem<2.1.0,>=2.0.2 in /usr/local/lib/python3.7/dist-packages (from spacy==2.2.3) (2.0.6)\n",
            "Collecting plac<1.2.0,>=0.9.6\n",
            "  Downloading plac-1.1.3-py2.py3-none-any.whl (20 kB)\n",
            "Requirement already satisfied: wasabi<1.1.0,>=0.4.0 in /usr/local/lib/python3.7/dist-packages (from spacy==2.2.3) (0.10.1)\n",
            "Requirement already satisfied: requests<3.0.0,>=2.13.0 in /usr/local/lib/python3.7/dist-packages (from spacy==2.2.3) (2.23.0)\n",
            "Requirement already satisfied: numpy>=1.15.0 in /usr/local/lib/python3.7/dist-packages (from spacy==2.2.3) (1.21.6)\n",
            "Collecting blis<0.5.0,>=0.4.0\n",
            "  Downloading blis-0.4.1-cp37-cp37m-manylinux1_x86_64.whl (3.7 MB)\n",
            "\u001b[K     |████████████████████████████████| 3.7 MB 55.1 MB/s \n",
            "\u001b[?25hRequirement already satisfied: murmurhash<1.1.0,>=0.28.0 in /usr/local/lib/python3.7/dist-packages (from spacy==2.2.3) (1.0.7)\n",
            "Collecting srsly<1.1.0,>=0.1.0\n",
            "  Downloading srsly-1.0.5-cp37-cp37m-manylinux2014_x86_64.whl (184 kB)\n",
            "\u001b[K     |████████████████████████████████| 184 kB 66.5 MB/s \n",
            "\u001b[?25hRequirement already satisfied: setuptools in /usr/local/lib/python3.7/dist-packages (from spacy==2.2.3) (57.4.0)\n",
            "Collecting catalogue<1.1.0,>=0.0.7\n",
            "  Downloading catalogue-1.0.0-py2.py3-none-any.whl (7.7 kB)\n",
            "Collecting thinc<7.4.0,>=7.3.0\n",
            "  Downloading thinc-7.3.1-cp37-cp37m-manylinux1_x86_64.whl (2.2 MB)\n",
            "\u001b[K     |████████████████████████████████| 2.2 MB 42.2 MB/s \n",
            "\u001b[?25hRequirement already satisfied: importlib-metadata>=0.20 in /usr/local/lib/python3.7/dist-packages (from catalogue<1.1.0,>=0.0.7->spacy==2.2.3) (4.12.0)\n",
            "Requirement already satisfied: typing-extensions>=3.6.4 in /usr/local/lib/python3.7/dist-packages (from importlib-metadata>=0.20->catalogue<1.1.0,>=0.0.7->spacy==2.2.3) (4.1.1)\n",
            "Requirement already satisfied: zipp>=0.5 in /usr/local/lib/python3.7/dist-packages (from importlib-metadata>=0.20->catalogue<1.1.0,>=0.0.7->spacy==2.2.3) (3.8.1)\n",
            "Requirement already satisfied: chardet<4,>=3.0.2 in /usr/local/lib/python3.7/dist-packages (from requests<3.0.0,>=2.13.0->spacy==2.2.3) (3.0.4)\n",
            "Requirement already satisfied: certifi>=2017.4.17 in /usr/local/lib/python3.7/dist-packages (from requests<3.0.0,>=2.13.0->spacy==2.2.3) (2022.6.15)\n",
            "Requirement already satisfied: idna<3,>=2.5 in /usr/local/lib/python3.7/dist-packages (from requests<3.0.0,>=2.13.0->spacy==2.2.3) (2.10)\n",
            "Requirement already satisfied: urllib3!=1.25.0,!=1.25.1,<1.26,>=1.21.1 in /usr/local/lib/python3.7/dist-packages (from requests<3.0.0,>=2.13.0->spacy==2.2.3) (1.24.3)\n",
            "Requirement already satisfied: tqdm<5.0.0,>=4.10.0 in /usr/local/lib/python3.7/dist-packages (from thinc<7.4.0,>=7.3.0->spacy==2.2.3) (4.64.0)\n",
            "Installing collected packages: srsly, plac, blis, thinc, catalogue, spacy\n",
            "  Attempting uninstall: srsly\n",
            "    Found existing installation: srsly 2.4.4\n",
            "    Uninstalling srsly-2.4.4:\n",
            "      Successfully uninstalled srsly-2.4.4\n",
            "  Attempting uninstall: blis\n",
            "    Found existing installation: blis 0.7.8\n",
            "    Uninstalling blis-0.7.8:\n",
            "      Successfully uninstalled blis-0.7.8\n",
            "  Attempting uninstall: thinc\n",
            "    Found existing installation: thinc 8.1.0\n",
            "    Uninstalling thinc-8.1.0:\n",
            "      Successfully uninstalled thinc-8.1.0\n",
            "  Attempting uninstall: catalogue\n",
            "    Found existing installation: catalogue 2.0.8\n",
            "    Uninstalling catalogue-2.0.8:\n",
            "      Successfully uninstalled catalogue-2.0.8\n",
            "  Attempting uninstall: spacy\n",
            "    Found existing installation: spacy 3.4.1\n",
            "    Uninstalling spacy-3.4.1:\n",
            "      Successfully uninstalled spacy-3.4.1\n",
            "\u001b[31mERROR: pip's dependency resolver does not currently take into account all the packages that are installed. This behaviour is the source of the following dependency conflicts.\n",
            "en-core-web-sm 3.4.0 requires spacy<3.5.0,>=3.4.0, but you have spacy 2.2.3 which is incompatible.\u001b[0m\n",
            "Successfully installed blis-0.4.1 catalogue-1.0.0 plac-1.1.3 spacy-2.2.3 srsly-1.0.5 thinc-7.3.1\n",
            "Looking in indexes: https://pypi.org/simple, https://us-python.pkg.dev/colab-wheels/public/simple/\n",
            "Collecting en_core_web_sm==2.2.5\n",
            "  Downloading https://github.com/explosion/spacy-models/releases/download/en_core_web_sm-2.2.5/en_core_web_sm-2.2.5.tar.gz (12.0 MB)\n",
            "\u001b[K     |████████████████████████████████| 12.0 MB 5.1 MB/s \n",
            "\u001b[?25hRequirement already satisfied: spacy>=2.2.2 in /usr/local/lib/python3.7/dist-packages (from en_core_web_sm==2.2.5) (2.2.3)\n",
            "Requirement already satisfied: catalogue<1.1.0,>=0.0.7 in /usr/local/lib/python3.7/dist-packages (from spacy>=2.2.2->en_core_web_sm==2.2.5) (1.0.0)\n",
            "Requirement already satisfied: plac<1.2.0,>=0.9.6 in /usr/local/lib/python3.7/dist-packages (from spacy>=2.2.2->en_core_web_sm==2.2.5) (1.1.3)\n",
            "Requirement already satisfied: srsly<1.1.0,>=0.1.0 in /usr/local/lib/python3.7/dist-packages (from spacy>=2.2.2->en_core_web_sm==2.2.5) (1.0.5)\n",
            "Requirement already satisfied: wasabi<1.1.0,>=0.4.0 in /usr/local/lib/python3.7/dist-packages (from spacy>=2.2.2->en_core_web_sm==2.2.5) (0.10.1)\n",
            "Requirement already satisfied: thinc<7.4.0,>=7.3.0 in /usr/local/lib/python3.7/dist-packages (from spacy>=2.2.2->en_core_web_sm==2.2.5) (7.3.1)\n",
            "Requirement already satisfied: requests<3.0.0,>=2.13.0 in /usr/local/lib/python3.7/dist-packages (from spacy>=2.2.2->en_core_web_sm==2.2.5) (2.23.0)\n",
            "Requirement already satisfied: numpy>=1.15.0 in /usr/local/lib/python3.7/dist-packages (from spacy>=2.2.2->en_core_web_sm==2.2.5) (1.21.6)\n",
            "Requirement already satisfied: blis<0.5.0,>=0.4.0 in /usr/local/lib/python3.7/dist-packages (from spacy>=2.2.2->en_core_web_sm==2.2.5) (0.4.1)\n",
            "Requirement already satisfied: setuptools in /usr/local/lib/python3.7/dist-packages (from spacy>=2.2.2->en_core_web_sm==2.2.5) (57.4.0)\n",
            "Requirement already satisfied: cymem<2.1.0,>=2.0.2 in /usr/local/lib/python3.7/dist-packages (from spacy>=2.2.2->en_core_web_sm==2.2.5) (2.0.6)\n",
            "Requirement already satisfied: preshed<3.1.0,>=3.0.2 in /usr/local/lib/python3.7/dist-packages (from spacy>=2.2.2->en_core_web_sm==2.2.5) (3.0.6)\n",
            "Requirement already satisfied: murmurhash<1.1.0,>=0.28.0 in /usr/local/lib/python3.7/dist-packages (from spacy>=2.2.2->en_core_web_sm==2.2.5) (1.0.7)\n",
            "Requirement already satisfied: importlib-metadata>=0.20 in /usr/local/lib/python3.7/dist-packages (from catalogue<1.1.0,>=0.0.7->spacy>=2.2.2->en_core_web_sm==2.2.5) (4.12.0)\n",
            "Requirement already satisfied: typing-extensions>=3.6.4 in /usr/local/lib/python3.7/dist-packages (from importlib-metadata>=0.20->catalogue<1.1.0,>=0.0.7->spacy>=2.2.2->en_core_web_sm==2.2.5) (4.1.1)\n",
            "Requirement already satisfied: zipp>=0.5 in /usr/local/lib/python3.7/dist-packages (from importlib-metadata>=0.20->catalogue<1.1.0,>=0.0.7->spacy>=2.2.2->en_core_web_sm==2.2.5) (3.8.1)\n",
            "Requirement already satisfied: idna<3,>=2.5 in /usr/local/lib/python3.7/dist-packages (from requests<3.0.0,>=2.13.0->spacy>=2.2.2->en_core_web_sm==2.2.5) (2.10)\n",
            "Requirement already satisfied: certifi>=2017.4.17 in /usr/local/lib/python3.7/dist-packages (from requests<3.0.0,>=2.13.0->spacy>=2.2.2->en_core_web_sm==2.2.5) (2022.6.15)\n",
            "Requirement already satisfied: urllib3!=1.25.0,!=1.25.1,<1.26,>=1.21.1 in /usr/local/lib/python3.7/dist-packages (from requests<3.0.0,>=2.13.0->spacy>=2.2.2->en_core_web_sm==2.2.5) (1.24.3)\n",
            "Requirement already satisfied: chardet<4,>=3.0.2 in /usr/local/lib/python3.7/dist-packages (from requests<3.0.0,>=2.13.0->spacy>=2.2.2->en_core_web_sm==2.2.5) (3.0.4)\n",
            "Requirement already satisfied: tqdm<5.0.0,>=4.10.0 in /usr/local/lib/python3.7/dist-packages (from thinc<7.4.0,>=7.3.0->spacy>=2.2.2->en_core_web_sm==2.2.5) (4.64.0)\n",
            "Building wheels for collected packages: en-core-web-sm\n",
            "  Building wheel for en-core-web-sm (setup.py) ... \u001b[?25l\u001b[?25hdone\n",
            "  Created wheel for en-core-web-sm: filename=en_core_web_sm-2.2.5-py3-none-any.whl size=12011737 sha256=570a9e114aaa3c62fc075dcb46daba76790cdf7e9b2dc9556f35f163bd6b1c1d\n",
            "  Stored in directory: /tmp/pip-ephem-wheel-cache-ttfrjejs/wheels/51/19/da/a3885266a3c241aff0ad2eb674ae058fd34a4870fef1c0a5a0\n",
            "Successfully built en-core-web-sm\n",
            "Installing collected packages: en-core-web-sm\n",
            "  Attempting uninstall: en-core-web-sm\n",
            "    Found existing installation: en-core-web-sm 3.4.0\n",
            "    Uninstalling en-core-web-sm-3.4.0:\n",
            "      Successfully uninstalled en-core-web-sm-3.4.0\n",
            "Successfully installed en-core-web-sm-2.2.5\n",
            "\u001b[38;5;2m✔ Download and installation successful\u001b[0m\n",
            "You can now load the model via spacy.load('en_core_web_sm')\n",
            "Looking in indexes: https://pypi.org/simple, https://us-python.pkg.dev/colab-wheels/public/simple/\n",
            "Collecting beautifulsoup4==4.9.1\n",
            "  Downloading beautifulsoup4-4.9.1-py3-none-any.whl (115 kB)\n",
            "\u001b[K     |████████████████████████████████| 115 kB 4.5 MB/s \n",
            "\u001b[?25hRequirement already satisfied: soupsieve>1.2 in /usr/local/lib/python3.7/dist-packages (from beautifulsoup4==4.9.1) (2.3.2.post1)\n",
            "Installing collected packages: beautifulsoup4\n",
            "  Attempting uninstall: beautifulsoup4\n",
            "    Found existing installation: beautifulsoup4 4.6.3\n",
            "    Uninstalling beautifulsoup4-4.6.3:\n",
            "      Successfully uninstalled beautifulsoup4-4.6.3\n",
            "Successfully installed beautifulsoup4-4.9.1\n",
            "Looking in indexes: https://pypi.org/simple, https://us-python.pkg.dev/colab-wheels/public/simple/\n",
            "Requirement already satisfied: textblob==0.15.3 in /usr/local/lib/python3.7/dist-packages (0.15.3)\n",
            "Requirement already satisfied: nltk>=3.1 in /usr/local/lib/python3.7/dist-packages (from textblob==0.15.3) (3.7)\n",
            "Requirement already satisfied: click in /usr/local/lib/python3.7/dist-packages (from nltk>=3.1->textblob==0.15.3) (7.1.2)\n",
            "Requirement already satisfied: tqdm in /usr/local/lib/python3.7/dist-packages (from nltk>=3.1->textblob==0.15.3) (4.64.0)\n",
            "Requirement already satisfied: regex>=2021.8.3 in /usr/local/lib/python3.7/dist-packages (from nltk>=3.1->textblob==0.15.3) (2022.6.2)\n",
            "Requirement already satisfied: joblib in /usr/local/lib/python3.7/dist-packages (from nltk>=3.1->textblob==0.15.3) (1.1.0)\n"
          ]
        }
      ]
    },
    {
      "cell_type": "code",
      "source": [
        "!pip install git+https://github.com/laxmimerit/preprocess_kgptalkie.git --upgrade --force-reinstall"
      ],
      "metadata": {
        "colab": {
          "base_uri": "https://localhost:8080/"
        },
        "id": "Yk-ouFyWIU1i",
        "outputId": "0e493bd7-1bbf-4019-9106-88bb49061b38"
      },
      "execution_count": 30,
      "outputs": [
        {
          "output_type": "stream",
          "name": "stdout",
          "text": [
            "Looking in indexes: https://pypi.org/simple, https://us-python.pkg.dev/colab-wheels/public/simple/\n",
            "Collecting git+https://github.com/laxmimerit/preprocess_kgptalkie.git\n",
            "  Cloning https://github.com/laxmimerit/preprocess_kgptalkie.git to /tmp/pip-req-build-pgq2jmj4\n",
            "  Running command git clone -q https://github.com/laxmimerit/preprocess_kgptalkie.git /tmp/pip-req-build-pgq2jmj4\n",
            "Building wheels for collected packages: preprocess-kgptalkie\n",
            "  Building wheel for preprocess-kgptalkie (setup.py) ... \u001b[?25l\u001b[?25hdone\n",
            "  Created wheel for preprocess-kgptalkie: filename=preprocess_kgptalkie-0.1.3-py3-none-any.whl size=11756 sha256=25e94e4f25e59f0fa2a60524398328b9a1f114db3ff9872ac03a9aa6fcba7f28\n",
            "  Stored in directory: /tmp/pip-ephem-wheel-cache-cdtjs_6d/wheels/0d/b3/29/bfe3deffda68980088d17b81331be6667e837ffb4a071bae82\n",
            "Successfully built preprocess-kgptalkie\n",
            "Installing collected packages: preprocess-kgptalkie\n",
            "Successfully installed preprocess-kgptalkie-0.1.3\n"
          ]
        }
      ]
    },
    {
      "cell_type": "code",
      "source": [
        "import preprocess_kgptalkie as ps"
      ],
      "metadata": {
        "id": "TfWdp9oyIp85"
      },
      "execution_count": 31,
      "outputs": []
    },
    {
      "cell_type": "code",
      "source": [
        "ps.remove_special_chars('this ,@ # is great&')"
      ],
      "metadata": {
        "colab": {
          "base_uri": "https://localhost:8080/",
          "height": 36
        },
        "id": "GE-iDcd1JKLB",
        "outputId": "d4a33459-73ed-4bba-cc7e-8b1aa33b644f"
      },
      "execution_count": 32,
      "outputs": [
        {
          "output_type": "execute_result",
          "data": {
            "text/plain": [
              "'this is great'"
            ],
            "application/vnd.google.colaboratory.intrinsic+json": {
              "type": "string"
            }
          },
          "metadata": {},
          "execution_count": 32
        }
      ]
    },
    {
      "cell_type": "code",
      "source": [
        "data['text']=data['text'].apply(lambda x:ps.remove_special_chars(x))"
      ],
      "metadata": {
        "id": "0bDjgUcaI7uj"
      },
      "execution_count": 33,
      "outputs": []
    },
    {
      "cell_type": "code",
      "source": [
        "import gensim\n",
        "y=data['class'].values"
      ],
      "metadata": {
        "id": "BrAgpetbKTm2"
      },
      "execution_count": 34,
      "outputs": []
    },
    {
      "cell_type": "code",
      "source": [
        "X=[d.split() for d in data['text'].tolist()]"
      ],
      "metadata": {
        "id": "sqb3i5NzKaz1"
      },
      "execution_count": 35,
      "outputs": []
    },
    {
      "cell_type": "code",
      "source": [
        "print(X[0])"
      ],
      "metadata": {
        "colab": {
          "base_uri": "https://localhost:8080/"
        },
        "id": "EMxB84vwLHKj",
        "outputId": "a97294a5-daa9-4601-ce32-9783980ded92"
      },
      "execution_count": 36,
      "outputs": [
        {
          "output_type": "stream",
          "name": "stdout",
          "text": [
            "['as', 'us', 'budget', 'fight', 'looms', 'republicans', 'flip', 'their', 'fiscal', 'script', 'the', 'head', 'of', 'a', 'conservative', 'republican', 'faction', 'in', 'the', 'us', 'congress', 'who', 'voted', 'this', 'month', 'for', 'a', 'huge', 'expansion', 'of', 'the', 'national', 'debt', 'to', 'pay', 'for', 'tax', 'cuts', 'called', 'himself', 'a', 'fiscal', 'conservative', 'on', 'sunday', 'and', 'urged', 'budget', 'restraint', 'in', '2018', 'in', 'keeping', 'with', 'a', 'sharp', 'pivot', 'under', 'way', 'among', 'republicans', 'us', 'representative', 'mark', 'meadows', 'speaking', 'on', 'cbs', 'face', 'the', 'nation', 'drew', 'a', 'hard', 'line', 'on', 'federal', 'spending', 'which', 'lawmakers', 'are', 'bracing', 'to', 'do', 'battle', 'over', 'in', 'january', 'when', 'they', 'return', 'from', 'the', 'holidays', 'on', 'wednesday', 'lawmakers', 'will', 'begin', 'trying', 'to', 'pass', 'a', 'federal', 'budget', 'in', 'a', 'fight', 'likely', 'to', 'be', 'linked', 'to', 'other', 'issues', 'such', 'as', 'immigration', 'policy', 'even', 'as', 'the', 'november', 'congressional', 'election', 'campaigns', 'approach', 'in', 'which', 'republicans', 'will', 'seek', 'to', 'keep', 'control', 'of', 'congress', 'president', 'donald', 'trump', 'and', 'his', 'republicans', 'want', 'a', 'big', 'budget', 'increase', 'in', 'military', 'spending', 'while', 'democrats', 'also', 'want', 'proportional', 'increases', 'for', 'nondefense', 'discretionary', 'spending', 'on', 'programs', 'that', 'support', 'education', 'scientific', 'research', 'infrastructure', 'public', 'health', 'and', 'environmental', 'protection', 'the', 'trump', 'administration', 'has', 'already', 'been', 'willing', 'to', 'say', 'were', 'going', 'to', 'increase', 'nondefense', 'discretionary', 'spending', 'by', 'about', '7', 'percent', 'meadows', 'chairman', 'of', 'the', 'small', 'but', 'influential', 'house', 'freedom', 'caucus', 'said', 'on', 'the', 'program', 'now', 'democrats', 'are', 'saying', 'thats', 'not', 'enough', 'we', 'need', 'to', 'give', 'the', 'government', 'a', 'pay', 'raise', 'of', '10', 'to', '11', 'percent', 'for', 'a', 'fiscal', 'conservative', 'i', 'dont', 'see', 'where', 'the', 'rationale', 'is', 'eventually', 'you', 'run', 'out', 'of', 'other', 'peoples', 'money', 'he', 'said', 'meadows', 'was', 'among', 'republicans', 'who', 'voted', 'in', 'late', 'december', 'for', 'their', 'partys', 'debtfinanced', 'tax', 'overhaul', 'which', 'is', 'expected', 'to', 'balloon', 'the', 'federal', 'budget', 'deficit', 'and', 'add', 'about', '15', 'trillion', 'over', '10', 'years', 'to', 'the', '20', 'trillion', 'national', 'debt', 'its', 'interesting', 'to', 'hear', 'mark', 'talk', 'about', 'fiscal', 'responsibility', 'democratic', 'us', 'representative', 'joseph', 'crowley', 'said', 'on', 'cbs', 'crowley', 'said', 'the', 'republican', 'tax', 'bill', 'would', 'require', 'the', 'united', 'states', 'to', 'borrow', '15', 'trillion', 'to', 'be', 'paid', 'off', 'by', 'future', 'generations', 'to', 'finance', 'tax', 'cuts', 'for', 'corporations', 'and', 'the', 'rich', 'this', 'is', 'one', 'of', 'the', 'least', 'fiscally', 'responsible', 'bills', 'weve', 'ever', 'seen', 'passed', 'in', 'the', 'history', 'of', 'the', 'house', 'of', 'representatives', 'i', 'think', 'were', 'going', 'to', 'be', 'paying', 'for', 'this', 'for', 'many', 'many', 'years', 'to', 'come', 'crowley', 'said', 'republicans', 'insist', 'the', 'tax', 'package', 'the', 'biggest', 'us', 'tax', 'overhaul', 'in', 'more', 'than', '30', 'years', 'will', 'boost', 'the', 'economy', 'and', 'job', 'growth', 'house', 'speaker', 'paul', 'ryan', 'who', 'also', 'supported', 'the', 'tax', 'bill', 'recently', 'went', 'further', 'than', 'meadows', 'making', 'clear', 'in', 'a', 'radio', 'interview', 'that', 'welfare', 'or', 'entitlement', 'reform', 'as', 'the', 'party', 'often', 'calls', 'it', 'would', 'be', 'a', 'top', 'republican', 'priority', 'in', '2018', 'in', 'republican', 'parlance', 'entitlement', 'programs', 'mean', 'food', 'stamps', 'housing', 'assistance', 'medicare', 'and', 'medicaid', 'health', 'insurance', 'for', 'the', 'elderly', 'poor', 'and', 'disabled', 'as', 'well', 'as', 'other', 'programs', 'created', 'by', 'washington', 'to', 'assist', 'the', 'needy', 'democrats', 'seized', 'on', 'ryans', 'early', 'december', 'remarks', 'saying', 'they', 'showed', 'republicans', 'would', 'try', 'to', 'pay', 'for', 'their', 'tax', 'overhaul', 'by', 'seeking', 'spending', 'cuts', 'for', 'social', 'programs', 'but', 'the', 'goals', 'of', 'house', 'republicans', 'may', 'have', 'to', 'take', 'a', 'back', 'seat', 'to', 'the', 'senate', 'where', 'the', 'votes', 'of', 'some', 'democrats', 'will', 'be', 'needed', 'to', 'approve', 'a', 'budget', 'and', 'prevent', 'a', 'government', 'shutdown', 'democrats', 'will', 'use', 'their', 'leverage', 'in', 'the', 'senate', 'which', 'republicans', 'narrowly', 'control', 'to', 'defend', 'both', 'discretionary', 'nondefense', 'programs', 'and', 'social', 'spending', 'while', 'tackling', 'the', 'issue', 'of', 'the', 'dreamers', 'people', 'brought', 'illegally', 'to', 'the', 'country', 'as', 'children', 'trump', 'in', 'september', 'put', 'a', 'march', '2018', 'expiration', 'date', 'on', 'the', 'deferred', 'action', 'for', 'childhood', 'arrivals', 'or', 'daca', 'program', 'which', 'protects', 'the', 'young', 'immigrants', 'from', 'deportation', 'and', 'provides', 'them', 'with', 'work', 'permits', 'the', 'president', 'has', 'said', 'in', 'recent', 'twitter', 'messages', 'he', 'wants', 'funding', 'for', 'his', 'proposed', 'mexican', 'border', 'wall', 'and', 'other', 'immigration', 'law', 'changes', 'in', 'exchange', 'for', 'agreeing', 'to', 'help', 'the', 'dreamers', 'representative', 'debbie', 'dingell', 'told', 'cbs', 'she', 'did', 'not', 'favor', 'linking', 'that', 'issue', 'to', 'other', 'policy', 'objectives', 'such', 'as', 'wall', 'funding', 'we', 'need', 'to', 'do', 'daca', 'clean', 'she', 'said', 'on', 'wednesday', 'trump', 'aides', 'will', 'meet', 'with', 'congressional', 'leaders', 'to', 'discuss', 'those', 'issues', 'that', 'will', 'be', 'followed', 'by', 'a', 'weekend', 'of', 'strategy', 'sessions', 'for', 'trump', 'and', 'republican', 'leaders', 'on', 'jan', '6', 'and', '7', 'the', 'white', 'house', 'said', 'trump', 'was', 'also', 'scheduled', 'to', 'meet', 'on', 'sunday', 'with', 'florida', 'republican', 'governor', 'rick', 'scott', 'who', 'wants', 'more', 'emergency', 'aid', 'the', 'house', 'has', 'passed', 'an', '81', 'billion', 'aid', 'package', 'after', 'hurricanes', 'in', 'florida', 'texas', 'and', 'puerto', 'rico', 'and', 'wildfires', 'in', 'california', 'the', 'package', 'far', 'exceeded', 'the', '44', 'billion', 'requested', 'by', 'the', 'trump', 'administration', 'the', 'senate', 'has', 'not', 'yet', 'voted', 'on', 'the', 'aid']\n"
          ]
        }
      ]
    },
    {
      "cell_type": "code",
      "source": [
        "DIM = 100\n",
        "w2v_model = gensim.models.Word2Vec(sentences=X, size=DIM, window=5,min_count=1)"
      ],
      "metadata": {
        "id": "Z288D7bkLX64"
      },
      "execution_count": 37,
      "outputs": []
    },
    {
      "cell_type": "code",
      "source": [
        "len(w2v_model.wv.vocab)"
      ],
      "metadata": {
        "colab": {
          "base_uri": "https://localhost:8080/"
        },
        "id": "mR6zinUMLwQ-",
        "outputId": "980e6861-97bc-4cdf-eaea-e589d83cf3d2"
      },
      "execution_count": 38,
      "outputs": [
        {
          "output_type": "execute_result",
          "data": {
            "text/plain": [
              "231850"
            ]
          },
          "metadata": {},
          "execution_count": 38
        }
      ]
    },
    {
      "cell_type": "code",
      "source": [
        "w2v_model.wv['love']"
      ],
      "metadata": {
        "colab": {
          "base_uri": "https://localhost:8080/"
        },
        "id": "EIYJMfDYOhrt",
        "outputId": "6eabc786-2ea7-4a6a-a5e1-c49327b1c064"
      },
      "execution_count": 39,
      "outputs": [
        {
          "output_type": "execute_result",
          "data": {
            "text/plain": [
              "array([ 1.0997453 , -0.37942028,  1.7317755 ,  0.6232256 , -0.8631656 ,\n",
              "       -1.3423427 , -0.17960405, -3.7520142 , -1.0853055 , -1.6185666 ,\n",
              "       -2.7405312 , -1.1152945 , -0.176468  , -0.783987  ,  0.8182804 ,\n",
              "        0.531972  , -0.7375103 ,  0.08688749,  1.8167675 ,  0.02447015,\n",
              "       -2.4648561 ,  2.1220307 , -2.0591135 , -4.064605  ,  1.7290021 ,\n",
              "        0.41925818,  0.95811397,  0.4713745 , -0.31668964,  0.39230815,\n",
              "        2.5132148 ,  1.4361813 , -1.0138117 , -0.2768183 ,  0.14120264,\n",
              "        2.7185616 , -0.89663696, -0.5129412 , -1.6577164 , -0.12165665,\n",
              "        0.06263673, -0.7044325 , -0.08826622, -0.6743159 , -1.253761  ,\n",
              "       -0.64620847, -1.1705765 , -0.55148274,  0.7593233 ,  1.2015549 ,\n",
              "       -0.25875   ,  1.6050719 , -2.669437  , -1.2783273 , -1.3587141 ,\n",
              "        0.45188367, -0.59195673, -0.16618942, -1.4890378 ,  1.8187476 ,\n",
              "       -3.3616269 , -1.5927604 ,  0.90820223, -0.17241251, -4.218157  ,\n",
              "       -3.348958  ,  2.563917  , -0.77820426,  0.62040806,  1.0133364 ,\n",
              "        0.4566411 ,  1.2839862 , -0.782031  ,  2.1131837 , -0.51450723,\n",
              "        0.49831256,  1.6302185 , -0.62216353, -0.76989   , -2.318294  ,\n",
              "       -0.62430817, -3.727248  , -1.4892254 , -0.7570564 , -0.3661546 ,\n",
              "       -0.1998004 ,  4.018148  , -0.9663169 ,  3.2806478 , -2.648562  ,\n",
              "       -3.5489647 ,  2.6269064 ,  0.64301544,  0.9433801 , -3.2447767 ,\n",
              "       -1.1364225 , -1.9996489 ,  1.1611384 , -0.87820756, -0.35118014],\n",
              "      dtype=float32)"
            ]
          },
          "metadata": {},
          "execution_count": 39
        }
      ]
    },
    {
      "cell_type": "code",
      "source": [
        "w2v_model.wv.most_similar('india')"
      ],
      "metadata": {
        "colab": {
          "base_uri": "https://localhost:8080/"
        },
        "id": "dvfZqjZkOqsd",
        "outputId": "7082ebdf-1b10-4231-c183-50af7f74cdad"
      },
      "execution_count": 40,
      "outputs": [
        {
          "output_type": "execute_result",
          "data": {
            "text/plain": [
              "[('pakistan', 0.7611252665519714),\n",
              " ('malaysia', 0.7342205047607422),\n",
              " ('china', 0.7095584273338318),\n",
              " ('australia', 0.6968055367469788),\n",
              " ('tunisia', 0.6960484385490417),\n",
              " ('norway', 0.6867456436157227),\n",
              " ('thailand', 0.6795707941055298),\n",
              " ('egypt', 0.6735937595367432),\n",
              " ('japan', 0.6671739816665649),\n",
              " ('canada', 0.6646056175231934)]"
            ]
          },
          "metadata": {},
          "execution_count": 40
        }
      ]
    },
    {
      "cell_type": "code",
      "source": [
        "tokenizer = Tokenizer()\n",
        "tokenizer.fit_on_texts(X)\n",
        "X= tokenizer.texts_to_sequences(X)"
      ],
      "metadata": {
        "id": "D24yR2U3O_9l"
      },
      "execution_count": 41,
      "outputs": []
    },
    {
      "cell_type": "code",
      "source": [
        "tokenizer.word_index"
      ],
      "metadata": {
        "colab": {
          "base_uri": "https://localhost:8080/"
        },
        "id": "FrtN0QQ3QBN0",
        "outputId": "fbab6dc9-f02f-44af-a499-4a3d20a7d7f9"
      },
      "execution_count": 42,
      "outputs": [
        {
          "output_type": "execute_result",
          "data": {
            "text/plain": [
              "{'the': 1,\n",
              " 'to': 2,\n",
              " 'of': 3,\n",
              " 'a': 4,\n",
              " 'and': 5,\n",
              " 'in': 6,\n",
              " 'that': 7,\n",
              " 'on': 8,\n",
              " 'for': 9,\n",
              " 's': 10,\n",
              " 'is': 11,\n",
              " 'he': 12,\n",
              " 'said': 13,\n",
              " 'trump': 14,\n",
              " 'it': 15,\n",
              " 'with': 16,\n",
              " 'was': 17,\n",
              " 'as': 18,\n",
              " 'his': 19,\n",
              " 'by': 20,\n",
              " 'has': 21,\n",
              " 'be': 22,\n",
              " 'have': 23,\n",
              " 'not': 24,\n",
              " 'from': 25,\n",
              " 'this': 26,\n",
              " 'at': 27,\n",
              " 'are': 28,\n",
              " 'who': 29,\n",
              " 'us': 30,\n",
              " 'an': 31,\n",
              " 'they': 32,\n",
              " 'i': 33,\n",
              " 'but': 34,\n",
              " 'we': 35,\n",
              " 'would': 36,\n",
              " 'president': 37,\n",
              " 'about': 38,\n",
              " 'will': 39,\n",
              " 'their': 40,\n",
              " 'had': 41,\n",
              " 'you': 42,\n",
              " 't': 43,\n",
              " 'been': 44,\n",
              " 'were': 45,\n",
              " 'people': 46,\n",
              " 'more': 47,\n",
              " 'or': 48,\n",
              " 'after': 49,\n",
              " 'which': 50,\n",
              " 'she': 51,\n",
              " 'her': 52,\n",
              " 'one': 53,\n",
              " 'if': 54,\n",
              " 'its': 55,\n",
              " 'out': 56,\n",
              " 'all': 57,\n",
              " 'what': 58,\n",
              " 'state': 59,\n",
              " 'when': 60,\n",
              " 'new': 61,\n",
              " 'also': 62,\n",
              " 'up': 63,\n",
              " 'there': 64,\n",
              " 'over': 65,\n",
              " 'no': 66,\n",
              " 'house': 67,\n",
              " 'donald': 68,\n",
              " 'our': 69,\n",
              " 'states': 70,\n",
              " 'clinton': 71,\n",
              " 'obama': 72,\n",
              " 'government': 73,\n",
              " 'can': 74,\n",
              " 'just': 75,\n",
              " 'him': 76,\n",
              " 'so': 77,\n",
              " 'than': 78,\n",
              " 'republican': 79,\n",
              " 'other': 80,\n",
              " 'some': 81,\n",
              " 'could': 82,\n",
              " 'white': 83,\n",
              " 'into': 84,\n",
              " 'told': 85,\n",
              " 'united': 86,\n",
              " 'against': 87,\n",
              " 'like': 88,\n",
              " 'do': 89,\n",
              " 'because': 90,\n",
              " 'campaign': 91,\n",
              " 'them': 92,\n",
              " 'news': 93,\n",
              " 'any': 94,\n",
              " 'last': 95,\n",
              " 'election': 96,\n",
              " 'two': 97,\n",
              " 'time': 98,\n",
              " 'now': 99,\n",
              " 'how': 100,\n",
              " 'party': 101,\n",
              " 'first': 102,\n",
              " 'only': 103,\n",
              " 'former': 104,\n",
              " 'hillary': 105,\n",
              " 'should': 106,\n",
              " 'even': 107,\n",
              " 'being': 108,\n",
              " 'year': 109,\n",
              " 'while': 110,\n",
              " 'country': 111,\n",
              " 'video': 112,\n",
              " 'did': 113,\n",
              " 'before': 114,\n",
              " 'years': 115,\n",
              " 'during': 116,\n",
              " 'many': 117,\n",
              " 'media': 118,\n",
              " 'security': 119,\n",
              " 'may': 120,\n",
              " 'most': 121,\n",
              " 'say': 122,\n",
              " 'political': 123,\n",
              " 'national': 124,\n",
              " 'police': 125,\n",
              " 'get': 126,\n",
              " 'law': 127,\n",
              " 'made': 128,\n",
              " 'court': 129,\n",
              " 'make': 130,\n",
              " 'those': 131,\n",
              " 'american': 132,\n",
              " 'republicans': 133,\n",
              " 'since': 134,\n",
              " 'going': 135,\n",
              " 'where': 136,\n",
              " 'percent': 137,\n",
              " 'trumps': 138,\n",
              " 'bill': 139,\n",
              " 'presidential': 140,\n",
              " 'under': 141,\n",
              " 'very': 142,\n",
              " 'back': 143,\n",
              " 'these': 144,\n",
              " 'says': 145,\n",
              " 'russia': 146,\n",
              " 'north': 147,\n",
              " 'senate': 148,\n",
              " 'support': 149,\n",
              " 'democratic': 150,\n",
              " 'administration': 151,\n",
              " 'vote': 152,\n",
              " 'america': 153,\n",
              " 'down': 154,\n",
              " 'week': 155,\n",
              " 'between': 156,\n",
              " 'including': 157,\n",
              " 'group': 158,\n",
              " 'then': 159,\n",
              " 'know': 160,\n",
              " 'officials': 161,\n",
              " 'think': 162,\n",
              " 'according': 163,\n",
              " 'way': 164,\n",
              " 'take': 165,\n",
              " 'public': 166,\n",
              " 'office': 167,\n",
              " 'federal': 168,\n",
              " 'military': 169,\n",
              " 'such': 170,\n",
              " 'my': 171,\n",
              " 'foreign': 172,\n",
              " 'called': 173,\n",
              " 're': 174,\n",
              " 'via': 175,\n",
              " 'right': 176,\n",
              " 'million': 177,\n",
              " 'world': 178,\n",
              " 'statement': 179,\n",
              " 'department': 180,\n",
              " 'want': 181,\n",
              " 'washington': 182,\n",
              " 'saying': 183,\n",
              " 'tax': 184,\n",
              " 'don': 185,\n",
              " 'well': 186,\n",
              " 'see': 187,\n",
              " 'here': 188,\n",
              " 'congress': 189,\n",
              " 'still': 190,\n",
              " 'russian': 191,\n",
              " 'tuesday': 192,\n",
              " 'both': 193,\n",
              " 'your': 194,\n",
              " 'much': 195,\n",
              " 'democrats': 196,\n",
              " 'image': 197,\n",
              " 'another': 198,\n",
              " 'minister': 199,\n",
              " 'day': 200,\n",
              " 'women': 201,\n",
              " 'part': 202,\n",
              " 'wednesday': 203,\n",
              " 'go': 204,\n",
              " 'work': 205,\n",
              " 'through': 206,\n",
              " 'china': 207,\n",
              " 'policy': 208,\n",
              " 'friday': 209,\n",
              " 'thursday': 210,\n",
              " 'asked': 211,\n",
              " 'war': 212,\n",
              " 'own': 213,\n",
              " 'black': 214,\n",
              " 'deal': 215,\n",
              " 'rights': 216,\n",
              " 'off': 217,\n",
              " 'city': 218,\n",
              " 'official': 219,\n",
              " 'secretary': 220,\n",
              " 'why': 221,\n",
              " 'monday': 222,\n",
              " '2016': 223,\n",
              " 'americans': 224,\n",
              " 'committee': 225,\n",
              " 'next': 226,\n",
              " 'me': 227,\n",
              " 'help': 228,\n",
              " 'general': 229,\n",
              " 'need': 230,\n",
              " 'korea': 231,\n",
              " 'three': 232,\n",
              " 'whether': 233,\n",
              " 'leader': 234,\n",
              " 'case': 235,\n",
              " 'senator': 236,\n",
              " 'never': 237,\n",
              " 'show': 238,\n",
              " 'man': 239,\n",
              " 'around': 240,\n",
              " 'does': 241,\n",
              " 'york': 242,\n",
              " 'order': 243,\n",
              " 'fbi': 244,\n",
              " 'members': 245,\n",
              " 'use': 246,\n",
              " 'candidate': 247,\n",
              " 'report': 248,\n",
              " 'same': 249,\n",
              " 'meeting': 250,\n",
              " 'took': 251,\n",
              " 'good': 252,\n",
              " 'come': 253,\n",
              " 'every': 254,\n",
              " 'iran': 255,\n",
              " 'end': 256,\n",
              " 'left': 257,\n",
              " 'without': 258,\n",
              " 'power': 259,\n",
              " 'used': 260,\n",
              " 'really': 261,\n",
              " 'top': 262,\n",
              " 'reuters': 263,\n",
              " 'attack': 264,\n",
              " 'put': 265,\n",
              " 'investigation': 266,\n",
              " 'intelligence': 267,\n",
              " 'times': 268,\n",
              " 'twitter': 269,\n",
              " 'countries': 270,\n",
              " 'justice': 271,\n",
              " 'money': 272,\n",
              " 'nuclear': 273,\n",
              " 'syria': 274,\n",
              " 'change': 275,\n",
              " 'voters': 276,\n",
              " 'plan': 277,\n",
              " 'trade': 278,\n",
              " 'month': 279,\n",
              " 'information': 280,\n",
              " 'leaders': 281,\n",
              " 'south': 282,\n",
              " 'family': 283,\n",
              " 'speech': 284,\n",
              " 'decision': 285,\n",
              " 'business': 286,\n",
              " 'international': 287,\n",
              " 'groups': 288,\n",
              " 'reported': 289,\n",
              " 'fact': 290,\n",
              " 'days': 291,\n",
              " 'interview': 292,\n",
              " 'long': 293,\n",
              " 'already': 294,\n",
              " 'director': 295,\n",
              " 'several': 296,\n",
              " 'story': 297,\n",
              " 'again': 298,\n",
              " 'far': 299,\n",
              " 'too': 300,\n",
              " 'conservative': 301,\n",
              " 'fox': 302,\n",
              " 'chief': 303,\n",
              " 'likely': 304,\n",
              " 'must': 305,\n",
              " 'health': 306,\n",
              " 'call': 307,\n",
              " 'border': 308,\n",
              " 'something': 309,\n",
              " 'john': 310,\n",
              " 'place': 311,\n",
              " 'immigration': 312,\n",
              " 'months': 313,\n",
              " 'clear': 314,\n",
              " 'supporters': 315,\n",
              " 'agency': 316,\n",
              " 'social': 317,\n",
              " 'home': 318,\n",
              " 'islamic': 319,\n",
              " 'among': 320,\n",
              " 'watch': 321,\n",
              " 'sanders': 322,\n",
              " 'move': 323,\n",
              " 'press': 324,\n",
              " 'post': 325,\n",
              " 'believe': 326,\n",
              " 'however': 327,\n",
              " 'barack': 328,\n",
              " 'got': 329,\n",
              " 'program': 330,\n",
              " 'issue': 331,\n",
              " 'billion': 332,\n",
              " 'won': 333,\n",
              " 'act': 334,\n",
              " 'might': 335,\n",
              " 'children': 336,\n",
              " 'major': 337,\n",
              " 'came': 338,\n",
              " 'muslim': 339,\n",
              " 'recent': 340,\n",
              " 'least': 341,\n",
              " 'sunday': 342,\n",
              " 'killed': 343,\n",
              " 'seen': 344,\n",
              " 'found': 345,\n",
              " 'things': 346,\n",
              " 'number': 347,\n",
              " 'great': 348,\n",
              " 'control': 349,\n",
              " 'trying': 350,\n",
              " 've': 351,\n",
              " 'democrat': 352,\n",
              " 'matter': 353,\n",
              " 'today': 354,\n",
              " 'though': 355,\n",
              " 'didn': 356,\n",
              " 'reporters': 357,\n",
              " 'later': 358,\n",
              " 'win': 359,\n",
              " 'defense': 360,\n",
              " 'm': 361,\n",
              " 'attacks': 362,\n",
              " 'yet': 363,\n",
              " 'economic': 364,\n",
              " 'eu': 365,\n",
              " 'making': 366,\n",
              " 'march': 367,\n",
              " 'spokesman': 368,\n",
              " 'working': 369,\n",
              " 'went': 370,\n",
              " 'executive': 371,\n",
              " 'become': 372,\n",
              " 'actually': 373,\n",
              " 'school': 374,\n",
              " 'look': 375,\n",
              " 'cnn': 376,\n",
              " 'keep': 377,\n",
              " 'stop': 378,\n",
              " 'big': 379,\n",
              " 'free': 380,\n",
              " 'give': 381,\n",
              " 'little': 382,\n",
              " 'nation': 383,\n",
              " 'system': 384,\n",
              " 'legal': 385,\n",
              " 'un': 386,\n",
              " 'set': 387,\n",
              " 'past': 388,\n",
              " 'violence': 389,\n",
              " 'cruz': 390,\n",
              " 'until': 391,\n",
              " 'real': 392,\n",
              " 'forces': 393,\n",
              " 'himself': 394,\n",
              " 'senior': 395,\n",
              " 'earlier': 396,\n",
              " 'away': 397,\n",
              " 'doesn': 398,\n",
              " 'let': 399,\n",
              " 'four': 400,\n",
              " 'thing': 401,\n",
              " 'point': 402,\n",
              " 'added': 403,\n",
              " 'talks': 404,\n",
              " 'governor': 405,\n",
              " 'member': 406,\n",
              " 'doing': 407,\n",
              " 'lawmakers': 408,\n",
              " 'nothing': 409,\n",
              " 'january': 410,\n",
              " 'comment': 411,\n",
              " 'illegal': 412,\n",
              " 'sanctions': 413,\n",
              " 'woman': 414,\n",
              " 'ever': 415,\n",
              " 'wall': 416,\n",
              " 'few': 417,\n",
              " 'opposition': 418,\n",
              " 'head': 419,\n",
              " 'european': 420,\n",
              " 'local': 421,\n",
              " 'taking': 422,\n",
              " 'force': 423,\n",
              " 'nations': 424,\n",
              " 'known': 425,\n",
              " 'issues': 426,\n",
              " 'human': 427,\n",
              " 'nominee': 428,\n",
              " 'july': 429,\n",
              " 'prime': 430,\n",
              " 'companies': 431,\n",
              " 'possible': 432,\n",
              " 'gun': 433,\n",
              " 'held': 434,\n",
              " 'gop': 435,\n",
              " 'attorney': 436,\n",
              " 'care': 437,\n",
              " 'following': 438,\n",
              " 'supreme': 439,\n",
              " 'wants': 440,\n",
              " 'action': 441,\n",
              " 'across': 442,\n",
              " '2015': 443,\n",
              " 'judge': 444,\n",
              " 'team': 445,\n",
              " 'released': 446,\n",
              " 'pay': 447,\n",
              " 'person': 448,\n",
              " 'expected': 449,\n",
              " 'union': 450,\n",
              " 'men': 451,\n",
              " 'continue': 452,\n",
              " 'job': 453,\n",
              " 'community': 454,\n",
              " 'better': 455,\n",
              " 'company': 456,\n",
              " 'enough': 457,\n",
              " 'others': 458,\n",
              " 'given': 459,\n",
              " 'high': 460,\n",
              " 'night': 461,\n",
              " 'once': 462,\n",
              " 'legislation': 463,\n",
              " 'evidence': 464,\n",
              " 'ban': 465,\n",
              " 'financial': 466,\n",
              " 'response': 467,\n",
              " '10': 468,\n",
              " 'history': 469,\n",
              " 'reports': 470,\n",
              " 'taken': 471,\n",
              " 'source': 472,\n",
              " 'budget': 473,\n",
              " 'process': 474,\n",
              " 'question': 475,\n",
              " 'face': 476,\n",
              " 'open': 477,\n",
              " 'images': 478,\n",
              " 'close': 479,\n",
              " 'fight': 480,\n",
              " 'done': 481,\n",
              " 'wrote': 482,\n",
              " 'debate': 483,\n",
              " '20': 484,\n",
              " 'special': 485,\n",
              " 'plans': 486,\n",
              " 'important': 487,\n",
              " 'life': 488,\n",
              " 'syrian': 489,\n",
              " 'course': 490,\n",
              " 'june': 491,\n",
              " 'having': 492,\n",
              " 'university': 493,\n",
              " 'refugees': 494,\n",
              " 'anyone': 495,\n",
              " 'lot': 496,\n",
              " 'race': 497,\n",
              " 'run': 498,\n",
              " 'majority': 499,\n",
              " 'private': 500,\n",
              " 'email': 501,\n",
              " 'iraq': 502,\n",
              " 'using': 503,\n",
              " 'death': 504,\n",
              " 'second': 505,\n",
              " 'air': 506,\n",
              " 'crisis': 507,\n",
              " 'putin': 508,\n",
              " 'staff': 509,\n",
              " 'despite': 510,\n",
              " 'conference': 511,\n",
              " 'further': 512,\n",
              " 'saturday': 513,\n",
              " 'comments': 514,\n",
              " 'anything': 515,\n",
              " 'november': 516,\n",
              " 'efforts': 517,\n",
              " 'behind': 518,\n",
              " 'accused': 519,\n",
              " 'along': 520,\n",
              " 'lives': 521,\n",
              " 'ago': 522,\n",
              " 'able': 523,\n",
              " 'ryan': 524,\n",
              " 'mexico': 525,\n",
              " 'best': 526,\n",
              " 'saudi': 527,\n",
              " '1': 528,\n",
              " 'agreement': 529,\n",
              " 'mr': 530,\n",
              " 'role': 531,\n",
              " 'early': 532,\n",
              " 'find': 533,\n",
              " 'full': 534,\n",
              " 'future': 535,\n",
              " 'am': 536,\n",
              " 'less': 537,\n",
              " 'region': 538,\n",
              " 'lead': 539,\n",
              " 'letter': 540,\n",
              " 'instead': 541,\n",
              " 'comes': 542,\n",
              " 'council': 543,\n",
              " 'weeks': 544,\n",
              " 'five': 545,\n",
              " 'jobs': 546,\n",
              " 'current': 547,\n",
              " 'within': 548,\n",
              " 'due': 549,\n",
              " 'someone': 550,\n",
              " 'civil': 551,\n",
              " 'visit': 552,\n",
              " 'facebook': 553,\n",
              " 'calling': 554,\n",
              " 'sure': 555,\n",
              " 'sources': 556,\n",
              " 'comey': 557,\n",
              " 'service': 558,\n",
              " 'hard': 559,\n",
              " 'coalition': 560,\n",
              " 'students': 561,\n",
              " 'getting': 562,\n",
              " 'texas': 563,\n",
              " 'live': 564,\n",
              " 'britain': 565,\n",
              " 'name': 566,\n",
              " 'rules': 567,\n",
              " 'center': 568,\n",
              " 'young': 569,\n",
              " 'congressional': 570,\n",
              " 'votes': 571,\n",
              " 'israel': 572,\n",
              " 'economy': 573,\n",
              " 'coming': 574,\n",
              " 'effort': 575,\n",
              " 'll': 576,\n",
              " 'elections': 577,\n",
              " 'calls': 578,\n",
              " 'muslims': 579,\n",
              " 'candidates': 580,\n",
              " 'announced': 581,\n",
              " 'emails': 582,\n",
              " 'weapons': 583,\n",
              " 'army': 584,\n",
              " 'global': 585,\n",
              " 'paul': 586,\n",
              " 'thousands': 587,\n",
              " 'ties': 588,\n",
              " 'line': 589,\n",
              " 'healthcare': 590,\n",
              " 'citizens': 591,\n",
              " 'running': 592,\n",
              " 'event': 593,\n",
              " 'chairman': 594,\n",
              " 'nearly': 595,\n",
              " 'climate': 596,\n",
              " 'sent': 597,\n",
              " 'talk': 598,\n",
              " '8': 599,\n",
              " 'obamacare': 600,\n",
              " 'racist': 601,\n",
              " 'fake': 602,\n",
              " 'claims': 603,\n",
              " 'street': 604,\n",
              " '2014': 605,\n",
              " 'allow': 606,\n",
              " 'rule': 607,\n",
              " 'daily': 608,\n",
              " 'capital': 609,\n",
              " 'poll': 610,\n",
              " 'position': 611,\n",
              " 'each': 612,\n",
              " 'workers': 613,\n",
              " 'december': 614,\n",
              " 'whose': 615,\n",
              " 'middle': 616,\n",
              " 'ruling': 617,\n",
              " 'led': 618,\n",
              " 'october': 619,\n",
              " 'hold': 620,\n",
              " 'wanted': 621,\n",
              " 'tell': 622,\n",
              " 'needs': 623,\n",
              " 'message': 624,\n",
              " 'latest': 625,\n",
              " 'outside': 626,\n",
              " 'april': 627,\n",
              " 'everyone': 628,\n",
              " 'late': 629,\n",
              " 'threat': 630,\n",
              " 'authorities': 631,\n",
              " 'gave': 632,\n",
              " 'east': 633,\n",
              " 'liberal': 634,\n",
              " 'began': 635,\n",
              " 'turkey': 636,\n",
              " 'problem': 637,\n",
              " 'florida': 638,\n",
              " 'makes': 639,\n",
              " 'bad': 640,\n",
              " 'showed': 641,\n",
              " 'reform': 642,\n",
              " 'politics': 643,\n",
              " 'officers': 644,\n",
              " '15': 645,\n",
              " 'leave': 646,\n",
              " 'rally': 647,\n",
              " 'immigrants': 648,\n",
              " 'bush': 649,\n",
              " 'd': 650,\n",
              " 'criminal': 651,\n",
              " 'september': 652,\n",
              " 'questions': 653,\n",
              " 'voting': 654,\n",
              " 'failed': 655,\n",
              " 'means': 656,\n",
              " 'organization': 657,\n",
              " 'august': 658,\n",
              " 'isn': 659,\n",
              " 'start': 660,\n",
              " 'representatives': 661,\n",
              " 'relations': 662,\n",
              " 'meet': 663,\n",
              " 'immediately': 664,\n",
              " 'reason': 665,\n",
              " 'peace': 666,\n",
              " 'lost': 667,\n",
              " 'list': 668,\n",
              " 'words': 669,\n",
              " 'parliament': 670,\n",
              " 'together': 671,\n",
              " 'cut': 672,\n",
              " 'release': 673,\n",
              " 'access': 674,\n",
              " 'speaking': 675,\n",
              " 'policies': 676,\n",
              " 'services': 677,\n",
              " 'hope': 678,\n",
              " 'stand': 679,\n",
              " 'germany': 680,\n",
              " 'funding': 681,\n",
              " 'february': 682,\n",
              " 'different': 683,\n",
              " 'rather': 684,\n",
              " 'central': 685,\n",
              " 'conservatives': 686,\n",
              " 'agencies': 687,\n",
              " 'george': 688,\n",
              " '2': 689,\n",
              " 'ahead': 690,\n",
              " 'spending': 691,\n",
              " 'based': 692,\n",
              " 'tried': 693,\n",
              " 'allies': 694,\n",
              " 'ministry': 695,\n",
              " 'strong': 696,\n",
              " 'read': 697,\n",
              " 'laws': 698,\n",
              " 'sexual': 699,\n",
              " 'planned': 700,\n",
              " 'almost': 701,\n",
              " 'try': 702,\n",
              " '2017': 703,\n",
              " 'millions': 704,\n",
              " 'cannot': 705,\n",
              " 'thought': 706,\n",
              " 'received': 707,\n",
              " 'oil': 708,\n",
              " 'six': 709,\n",
              " 'recently': 710,\n",
              " 'allowed': 711,\n",
              " 'morning': 712,\n",
              " 'host': 713,\n",
              " '30': 714,\n",
              " 'elected': 715,\n",
              " 'protect': 716,\n",
              " 'idea': 717,\n",
              " 'shows': 718,\n",
              " 'enforcement': 719,\n",
              " 'bring': 720,\n",
              " 'shooting': 721,\n",
              " 'charges': 722,\n",
              " 'decided': 723,\n",
              " 'missile': 724,\n",
              " 'old': 725,\n",
              " 'fire': 726,\n",
              " 'key': 727,\n",
              " 'room': 728,\n",
              " 'europe': 729,\n",
              " 'concerns': 730,\n",
              " 'parties': 731,\n",
              " 'provide': 732,\n",
              " 'chinese': 733,\n",
              " 'entire': 734,\n",
              " 'often': 735,\n",
              " 'talking': 736,\n",
              " 'met': 737,\n",
              " 'always': 738,\n",
              " 'involved': 739,\n",
              " 'near': 740,\n",
              " 'situation': 741,\n",
              " 'hate': 742,\n",
              " 'obamas': 743,\n",
              " 'energy': 744,\n",
              " 'happened': 745,\n",
              " 'officer': 746,\n",
              " 'district': 747,\n",
              " 'kind': 748,\n",
              " '3': 749,\n",
              " 'shot': 750,\n",
              " 'bank': 751,\n",
              " 'allegations': 752,\n",
              " 'denied': 753,\n",
              " 'tweet': 754,\n",
              " 'everything': 755,\n",
              " 'presidency': 756,\n",
              " 'california': 757,\n",
              " 'small': 758,\n",
              " 'movement': 759,\n",
              " 'james': 760,\n",
              " 'looking': 761,\n",
              " 'terrorist': 762,\n",
              " 'vice': 763,\n",
              " 'century': 764,\n",
              " 'travel': 765,\n",
              " 'needed': 766,\n",
              " 'arrested': 767,\n",
              " 'myanmar': 768,\n",
              " 'freedom': 769,\n",
              " 'especially': 770,\n",
              " 'agreed': 771,\n",
              " 'side': 772,\n",
              " 'voted': 773,\n",
              " 'include': 774,\n",
              " 'water': 775,\n",
              " 'return': 776,\n",
              " 'nomination': 777,\n",
              " 'bernie': 778,\n",
              " 'hours': 779,\n",
              " 'large': 780,\n",
              " 'protesters': 781,\n",
              " 'documents': 782,\n",
              " 'area': 783,\n",
              " 'potential': 784,\n",
              " 'industry': 785,\n",
              " 'korean': 786,\n",
              " 'crime': 787,\n",
              " 'data': 788,\n",
              " 'request': 789,\n",
              " 'british': 790,\n",
              " 'west': 791,\n",
              " '12': 792,\n",
              " 'themselves': 793,\n",
              " 'market': 794,\n",
              " 'seems': 795,\n",
              " 'although': 796,\n",
              " 'fired': 797,\n",
              " 'representative': 798,\n",
              " 'personal': 799,\n",
              " 'fighting': 800,\n",
              " 'county': 801,\n",
              " 'hearing': 802,\n",
              " 'claim': 803,\n",
              " 'adviser': 804,\n",
              " 'polls': 805,\n",
              " 'wife': 806,\n",
              " 'hit': 807,\n",
              " 'western': 808,\n",
              " 'cases': 809,\n",
              " '2012': 810,\n",
              " 'adding': 811,\n",
              " 'actions': 812,\n",
              " 'foundation': 813,\n",
              " 'either': 814,\n",
              " 'insurance': 815,\n",
              " 'worked': 816,\n",
              " 'true': 817,\n",
              " 'interest': 818,\n",
              " 'serious': 819,\n",
              " 'decades': 820,\n",
              " 'pressure': 821,\n",
              " 'wrong': 822,\n",
              " 'forward': 823,\n",
              " 'alleged': 824,\n",
              " 'building': 825,\n",
              " 'step': 826,\n",
              " 'front': 827,\n",
              " 'term': 828,\n",
              " '11': 829,\n",
              " 'commission': 830,\n",
              " 'address': 831,\n",
              " '5': 832,\n",
              " 'leading': 833,\n",
              " 'details': 834,\n",
              " 'j': 835,\n",
              " 'spoke': 836,\n",
              " 'claimed': 837,\n",
              " 'tillerson': 838,\n",
              " 'paid': 839,\n",
              " 'biggest': 840,\n",
              " 'probably': 841,\n",
              " 'lawyer': 842,\n",
              " 'confirmed': 843,\n",
              " 'love': 844,\n",
              " 'passed': 845,\n",
              " 'nov': 846,\n",
              " 'college': 847,\n",
              " 'continued': 848,\n",
              " 'clearly': 849,\n",
              " 'review': 850,\n",
              " 'feel': 851,\n",
              " '4': 852,\n",
              " 'board': 853,\n",
              " 'truth': 854,\n",
              " 'main': 855,\n",
              " 'families': 856,\n",
              " 'appeared': 857,\n",
              " 'final': 858,\n",
              " 'primary': 859,\n",
              " 'victory': 860,\n",
              " 'ted': 861,\n",
              " 'soon': 862,\n",
              " 'moscow': 863,\n",
              " 'leadership': 864,\n",
              " 'michael': 865,\n",
              " 'son': 866,\n",
              " 'mean': 867,\n",
              " 'protest': 868,\n",
              " 'father': 869,\n",
              " 'mike': 870,\n",
              " 'taxes': 871,\n",
              " 'turn': 872,\n",
              " 'terrorism': 873,\n",
              " 'network': 874,\n",
              " 'dont': 875,\n",
              " 'aid': 876,\n",
              " 'record': 877,\n",
              " 'brought': 878,\n",
              " 'dollars': 879,\n",
              " 'sessions': 880,\n",
              " 'realdonaldtrump': 881,\n",
              " 'declined': 882,\n",
              " 'cia': 883,\n",
              " 'result': 884,\n",
              " 'deputy': 885,\n",
              " 'wasn': 886,\n",
              " 'simply': 887,\n",
              " 'goes': 888,\n",
              " 'toward': 889,\n",
              " 'points': 890,\n",
              " 'turned': 891,\n",
              " 'remarks': 892,\n",
              " 'issued': 893,\n",
              " 'sign': 894,\n",
              " 'became': 895,\n",
              " 'started': 896,\n",
              " 'independence': 897,\n",
              " 'spent': 898,\n",
              " 'arabia': 899,\n",
              " 'protests': 900,\n",
              " 'pence': 901,\n",
              " 'flynn': 902,\n",
              " 'david': 903,\n",
              " 'included': 904,\n",
              " 'mayor': 905,\n",
              " 'agenda': 906,\n",
              " 'signed': 907,\n",
              " 'secret': 908,\n",
              " 'view': 909,\n",
              " 'isis': 910,\n",
              " 'religious': 911,\n",
              " 'influence': 912,\n",
              " 'attempt': 913,\n",
              " 'mccain': 914,\n",
              " '25': 915,\n",
              " 'article': 916,\n",
              " 'push': 917,\n",
              " 'town': 918,\n",
              " 'popular': 919,\n",
              " 'previously': 920,\n",
              " 'mark': 921,\n",
              " 'rubio': 922,\n",
              " 'forced': 923,\n",
              " 'german': 924,\n",
              " 'merkel': 925,\n",
              " 'below': 926,\n",
              " 'raised': 927,\n",
              " 'pass': 928,\n",
              " 'fund': 929,\n",
              " 'relationship': 930,\n",
              " 'guy': 931,\n",
              " 'pretty': 932,\n",
              " 'food': 933,\n",
              " 'child': 934,\n",
              " 'level': 935,\n",
              " '2013': 936,\n",
              " 'giving': 937,\n",
              " 'clintons': 938,\n",
              " 'seeking': 939,\n",
              " 'half': 940,\n",
              " 'posted': 941,\n",
              " 'al': 942,\n",
              " 'saw': 943,\n",
              " 'militants': 944,\n",
              " 'account': 945,\n",
              " 'website': 946,\n",
              " 'short': 947,\n",
              " 'convention': 948,\n",
              " 'gets': 949,\n",
              " 'speak': 950,\n",
              " 'conflict': 951,\n",
              " 'helped': 952,\n",
              " 'cost': 953,\n",
              " 'debt': 954,\n",
              " 'friends': 955,\n",
              " 'speaker': 956,\n",
              " 'proposed': 957,\n",
              " 'total': 958,\n",
              " 'increase': 959,\n",
              " 'firm': 960,\n",
              " 'hundreds': 961,\n",
              " 'voter': 962,\n",
              " 'ask': 963,\n",
              " 'reality': 964,\n",
              " 'ambassador': 965,\n",
              " 'armed': 966,\n",
              " 'wire': 967,\n",
              " 'described': 968,\n",
              " 'longer': 969,\n",
              " 'repeatedly': 970,\n",
              " 'phone': 971,\n",
              " 'remain': 972,\n",
              " 'created': 973,\n",
              " 'largest': 974,\n",
              " 'regional': 975,\n",
              " 'independent': 976,\n",
              " 'fear': 977,\n",
              " 'areas': 978,\n",
              " 'heard': 979,\n",
              " 'violent': 980,\n",
              " 'constitution': 981,\n",
              " 'discuss': 982,\n",
              " 'tv': 983,\n",
              " 'hand': 984,\n",
              " 'troops': 985,\n",
              " 'changes': 986,\n",
              " 'respond': 987,\n",
              " 'education': 988,\n",
              " 'currently': 989,\n",
              " 'criticized': 990,\n",
              " 'funds': 991,\n",
              " 'flag': 992,\n",
              " 'similar': 993,\n",
              " 'victims': 994,\n",
              " 'brexit': 995,\n",
              " 'build': 996,\n",
              " 'whole': 997,\n",
              " 'crowd': 998,\n",
              " 'senators': 999,\n",
              " 'carolina': 1000,\n",
              " ...}"
            ]
          },
          "metadata": {},
          "execution_count": 42
        }
      ]
    },
    {
      "cell_type": "code",
      "source": [
        "plt.hist([len(x) for x in X], bins=700)\n",
        "plt.show()"
      ],
      "metadata": {
        "colab": {
          "base_uri": "https://localhost:8080/",
          "height": 265
        },
        "id": "36L7pt9RQUUR",
        "outputId": "1448df06-6fdd-4a11-9bb7-5ae01166be06"
      },
      "execution_count": 43,
      "outputs": [
        {
          "output_type": "display_data",
          "data": {
            "text/plain": [
              "<Figure size 432x288 with 1 Axes>"
            ],
            "image/png": "[encoded data removed]"
          },
          "metadata": {
            "needs_background": "light"
          }
        }
      ]
    },
    {
      "cell_type": "code",
      "source": [
        "nos = np.array([len(x) for x in X])\n",
        "len(nos[nos>1000])"
      ],
      "metadata": {
        "colab": {
          "base_uri": "https://localhost:8080/"
        },
        "id": "xb9oBBkYRuhe",
        "outputId": "68b4e064-1e6d-484e-ecce-83dfba3ff423"
      },
      "execution_count": 44,
      "outputs": [
        {
          "output_type": "execute_result",
          "data": {
            "text/plain": [
              "1579"
            ]
          },
          "metadata": {},
          "execution_count": 44
        }
      ]
    },
    {
      "cell_type": "code",
      "source": [
        "maxlen = 700\n",
        "X = pad_sequences(X, maxlen=maxlen)"
      ],
      "metadata": {
        "id": "PSZRCIwLSGPT"
      },
      "execution_count": 45,
      "outputs": []
    },
    {
      "cell_type": "code",
      "source": [
        "vocab_size = len(tokenizer.word_index)+1"
      ],
      "metadata": {
        "id": "SNzxwVZNSqYi"
      },
      "execution_count": 46,
      "outputs": []
    },
    {
      "cell_type": "code",
      "source": [
        "def get_weight(model):\n",
        "  weight_matrix=np.zeros((vocab_size, DIM))\n",
        "  for word, i in tokenizer.word_index.items():\n",
        "    weight_matrix[i] = model.wv[word]\n",
        "  return weight_matrix"
      ],
      "metadata": {
        "id": "ch9jpNO1S4iG"
      },
      "execution_count": 58,
      "outputs": []
    },
    {
      "cell_type": "code",
      "source": [
        "embedding_vectors=get_weight(w2v_model)"
      ],
      "metadata": {
        "id": "VjtGYUoUqCQB"
      },
      "execution_count": 59,
      "outputs": []
    },
    {
      "cell_type": "code",
      "source": [
        "embedding_vectors.shape"
      ],
      "metadata": {
        "colab": {
          "base_uri": "https://localhost:8080/"
        },
        "id": "7ofaCp_fr6sU",
        "outputId": "0c11502e-b613-4ad1-aa4f-dcfd51f37ffe"
      },
      "execution_count": 60,
      "outputs": [
        {
          "output_type": "execute_result",
          "data": {
            "text/plain": [
              "(231851, 100)"
            ]
          },
          "metadata": {},
          "execution_count": 60
        }
      ]
    },
    {
      "cell_type": "code",
      "source": [
        "model= Sequential()"
      ],
      "metadata": {
        "id": "24YQ3bqfr_zd"
      },
      "execution_count": 61,
      "outputs": []
    },
    {
      "cell_type": "code",
      "source": [
        "model.add(Embedding(vocab_size, output_dim=DIM,weights=[embedding_vectors], input_length=maxlen, trainable=False))"
      ],
      "metadata": {
        "id": "ucseRbPLumk9"
      },
      "execution_count": 63,
      "outputs": []
    },
    {
      "cell_type": "code",
      "source": [
        "model.add(LSTM(units=128))\n",
        "model.add(Dense(1, activation='sigmoid'))\n",
        "model.compile(optimizer='adam', loss='binary_crossentropy', metrics=['acc'])"
      ],
      "metadata": {
        "id": "kpGG9hmvwUUf"
      },
      "execution_count": 64,
      "outputs": []
    },
    {
      "cell_type": "code",
      "source": [
        "model.summary()"
      ],
      "metadata": {
        "colab": {
          "base_uri": "https://localhost:8080/"
        },
        "id": "cGhx99AHy3ha",
        "outputId": "5f672f55-f076-453d-baea-2d8f6deb36e7"
      },
      "execution_count": 65,
      "outputs": [
        {
          "output_type": "stream",
          "name": "stdout",
          "text": [
            "Model: \"sequential\"\n",
            "_________________________________________________________________\n",
            " Layer (type)                Output Shape              Param #   \n",
            "=================================================================\n",
            " embedding (Embedding)       (None, 700, 100)          23185100  \n",
            "                                                                 \n",
            " lstm (LSTM)                 (None, 128)               117248    \n",
            "                                                                 \n",
            " dense (Dense)               (None, 1)                 129       \n",
            "                                                                 \n",
            "=================================================================\n",
            "Total params: 23,302,477\n",
            "Trainable params: 117,377\n",
            "Non-trainable params: 23,185,100\n",
            "_________________________________________________________________\n"
          ]
        }
      ]
    },
    {
      "cell_type": "code",
      "source": [
        "X_train, X_test,y_train,y_test = train_test_split(X,y)"
      ],
      "metadata": {
        "id": "Rn-vtxILzJCc"
      },
      "execution_count": 66,
      "outputs": []
    },
    {
      "cell_type": "code",
      "source": [
        "model.fit(X_train,y_train,validation_split=0.3,epochs=6)"
      ],
      "metadata": {
        "colab": {
          "base_uri": "https://localhost:8080/"
        },
        "id": "4ACHyHOSzQ8v",
        "outputId": "1e12e97a-f772-4455-893c-fd11b05b9729"
      },
      "execution_count": 67,
      "outputs": [
        {
          "output_type": "stream",
          "name": "stdout",
          "text": [
            "Epoch 1/6\n",
            "737/737 [==============================] - 41s 42ms/step - loss: 0.1623 - acc: 0.9356 - val_loss: 0.0779 - val_acc: 0.9732\n",
            "Epoch 2/6\n",
            "737/737 [==============================] - 29s 39ms/step - loss: 0.0636 - acc: 0.9785 - val_loss: 0.0556 - val_acc: 0.9832\n",
            "Epoch 3/6\n",
            "737/737 [==============================] - 29s 39ms/step - loss: 0.0338 - acc: 0.9893 - val_loss: 0.0277 - val_acc: 0.9912\n",
            "Epoch 4/6\n",
            "737/737 [==============================] - 29s 39ms/step - loss: 0.0220 - acc: 0.9924 - val_loss: 0.0405 - val_acc: 0.9865\n",
            "Epoch 5/6\n",
            "737/737 [==============================] - 30s 41ms/step - loss: 0.0193 - acc: 0.9931 - val_loss: 0.0233 - val_acc: 0.9924\n",
            "Epoch 6/6\n",
            "737/737 [==============================] - 29s 39ms/step - loss: 0.0119 - acc: 0.9963 - val_loss: 0.0545 - val_acc: 0.9859\n"
          ]
        },
        {
          "output_type": "execute_result",
          "data": {
            "text/plain": [
              "<keras.callbacks.History at 0x7f5717f1d190>"
            ]
          },
          "metadata": {},
          "execution_count": 67
        }
      ]
    },
    {
      "cell_type": "code",
      "source": [
        "y_pred=(model.predict(X_test)>0.5).astype(int)"
      ],
      "metadata": {
        "id": "Vrm_ga1Vzews"
      },
      "execution_count": 68,
      "outputs": []
    },
    {
      "cell_type": "code",
      "source": [
        "accuracy_score(y_test, y_pred)"
      ],
      "metadata": {
        "colab": {
          "base_uri": "https://localhost:8080/"
        },
        "id": "vD8iRSVa0ohg",
        "outputId": "f6f19236-90fa-44c6-d212-951249052ffe"
      },
      "execution_count": 69,
      "outputs": [
        {
          "output_type": "execute_result",
          "data": {
            "text/plain": [
              "0.986815144766147"
            ]
          },
          "metadata": {},
          "execution_count": 69
        }
      ]
    },
    {
      "cell_type": "code",
      "source": [
        "print(classification_report(y_test,y_pred))"
      ],
      "metadata": {
        "colab": {
          "base_uri": "https://localhost:8080/"
        },
        "id": "qVm3CsU50vXl",
        "outputId": "5880f276-c4c9-4088-8baf-8207f05508d7"
      },
      "execution_count": 70,
      "outputs": [
        {
          "output_type": "stream",
          "name": "stdout",
          "text": [
            "              precision    recall  f1-score   support\n",
            "\n",
            "           0       1.00      0.98      0.99      5878\n",
            "           1       0.97      1.00      0.99      5347\n",
            "\n",
            "    accuracy                           0.99     11225\n",
            "   macro avg       0.99      0.99      0.99     11225\n",
            "weighted avg       0.99      0.99      0.99     11225\n",
            "\n"
          ]
        }
      ]
    },
    {
      "cell_type": "code",
      "source": [
        "x=['''TUNIS, 31 juillet (Xinhua) -- Les Algériens qui quittent le territoire tunisien ne seront pas obligés de présenter, aux points de passage frontaliers, un test PCR pour détecter la COVID-19, a-t-on appris dimanche soir auprès de la présidence de la République tunisienne.\n",
        "\n",
        "D'après la même source, \"le président de la République Kaïs Saïed a décidé de dispenser les Algériens quittant le territoire tunisien des test PCR pour détecter le nouveau coronavirus\".\n",
        "\n",
        "Cette mesure entre en vigueur à partir de ce dimanche. La décision a été prise en coordination entre les deux ministères de l'Intérieur, tunisien et algérien.\n",
        "\n",
        "Pour rappel, les frontières terrestres entre la Tunisie et l'Algérie, fermées depuis environ deux ans, ont été réouvertes à partir du 15 juillet écoulé, sur décision conjointe des deux chefs d'Etat tunisien et algérien, Kaïs Saïed et Abdelmadjid Tebboune. Fin''']"
      ],
      "metadata": {
        "id": "UUpKmW573Gj1"
      },
      "execution_count": 72,
      "outputs": []
    },
    {
      "cell_type": "code",
      "source": [
        "x = tokenizer.texts_to_sequences(x)\n",
        "x = pad_sequences(x, maxlen=maxlen)\n",
        "(model.predict(x)>=0.5).astype(int)"
      ],
      "metadata": {
        "colab": {
          "base_uri": "https://localhost:8080/"
        },
        "id": "B4PKuzPo3WLd",
        "outputId": "3319106b-b7cb-41af-f176-86622c2788f4"
      },
      "execution_count": 73,
      "outputs": [
        {
          "output_type": "execute_result",
          "data": {
            "text/plain": [
              "array([[1]])"
            ]
          },
          "metadata": {},
          "execution_count": 73
        }
      ]
    }
  ]
}